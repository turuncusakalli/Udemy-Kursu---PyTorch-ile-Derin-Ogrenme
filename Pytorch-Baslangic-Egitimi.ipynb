{
 "cells": [
  {
   "cell_type": "markdown",
   "metadata": {},
   "source": [
    "# Açıklama - Explanation\n",
    "\n",
    "Hi there! I wanna inform you about this notebook. This notebook is not by me to develop a project. It is from an education which teacher didn't share the documents with students. I decided to prepare and share it with students.\n",
    "\n",
    "\n",
    "Merhabalar! Bu notebook bir proje üzerine çalışmam değildir. \"PyTorch ile Derin Öğrenme\" adlı Udemy kursu hocasının notebook dosyasını sizlerle paylaşacağım demesi ve hiçbir dosya paylaşmaması üzerine tarafımdan ilgili öğrencilere yardımcı olması niyetiyle hazırlanmıştır. \n",
    "\n",
    "* Bu notebooka teorik kısımları bildiğim için hocanın dökümanlarını araştırıp bulup koyma gereksinimi duymadım. Teorik kısımları elle not alabilirsiniz.\n",
    "* Çok basit olan kod parçalarını bile ekledim. Aramızda hiç bilmeyenlerin olduğunu düşünmek istedim.\n",
    "* Kendim için aldığım bazı notlar mevcut. Notebook içerisinde onlara ulaşabilirsiniz. Belki sizler için de faydalı olur.\n",
    "* Kendimce küçük düzenlemeler, farklılıklar yaptım. Python ya da diğer kütüphanelerin sürümleri değiştiği için bazı kod parçalarında değişiklik yapmam gerekti. \n",
    "* Aynı dosyanın içerisine, hocanın vermediği verisetlerini de yükledim.\n",
    "\n",
    "Umarım faydamın dokunduğu kişiler olmuştur. Sağlıklı günlerde kalın."
   ]
  },
  {
   "cell_type": "markdown",
   "metadata": {},
   "source": [
    " "
   ]
  },
  {
   "cell_type": "markdown",
   "metadata": {},
   "source": [
    "# PyTorch Temelleri"
   ]
  },
  {
   "cell_type": "markdown",
   "metadata": {},
   "source": [
    "### PyTorch - Kurulum ve Tensör Oluşturma"
   ]
  },
  {
   "cell_type": "code",
   "execution_count": 2,
   "metadata": {},
   "outputs": [],
   "source": [
    "import torch\n",
    "import numpy as np"
   ]
  },
  {
   "cell_type": "code",
   "execution_count": 4,
   "metadata": {},
   "outputs": [
    {
     "data": {
      "text/plain": [
       "'1.4.0'"
      ]
     },
     "execution_count": 4,
     "metadata": {},
     "output_type": "execute_result"
    }
   ],
   "source": [
    "torch.__version__"
   ]
  },
  {
   "cell_type": "code",
   "execution_count": 5,
   "metadata": {},
   "outputs": [],
   "source": [
    "arr=np.array([1,2,3,4])"
   ]
  },
  {
   "cell_type": "code",
   "execution_count": 6,
   "metadata": {},
   "outputs": [
    {
     "data": {
      "text/plain": [
       "array([1, 2, 3, 4])"
      ]
     },
     "execution_count": 6,
     "metadata": {},
     "output_type": "execute_result"
    }
   ],
   "source": [
    "arr"
   ]
  },
  {
   "cell_type": "code",
   "execution_count": 7,
   "metadata": {},
   "outputs": [
    {
     "data": {
      "text/plain": [
       "dtype('int32')"
      ]
     },
     "execution_count": 7,
     "metadata": {},
     "output_type": "execute_result"
    }
   ],
   "source": [
    "arr.dtype"
   ]
  },
  {
   "cell_type": "code",
   "execution_count": 9,
   "metadata": {},
   "outputs": [
    {
     "data": {
      "text/plain": [
       "numpy.ndarray"
      ]
     },
     "execution_count": 9,
     "metadata": {},
     "output_type": "execute_result"
    }
   ],
   "source": [
    "type(arr)"
   ]
  },
  {
   "cell_type": "code",
   "execution_count": 12,
   "metadata": {},
   "outputs": [
    {
     "data": {
      "text/plain": [
       "tensor([1, 2, 3, 4], dtype=torch.int32)"
      ]
     },
     "execution_count": 12,
     "metadata": {},
     "output_type": "execute_result"
    }
   ],
   "source": [
    "# numpy array den torch array e dönüşüm\n",
    "torch_from_np=torch.from_numpy(arr)\n",
    "torch_from_np"
   ]
  },
  {
   "cell_type": "code",
   "execution_count": 13,
   "metadata": {},
   "outputs": [
    {
     "data": {
      "text/plain": [
       "tensor([1, 2, 3, 4], dtype=torch.int32)"
      ]
     },
     "execution_count": 13,
     "metadata": {},
     "output_type": "execute_result"
    }
   ],
   "source": [
    "# ya da bu yöntemle dönüşüm gerçekleştirilebilir\n",
    "torch_from_np2=torch.as_tensor(arr)\n",
    "torch_from_np2"
   ]
  },
  {
   "cell_type": "code",
   "execution_count": 14,
   "metadata": {},
   "outputs": [
    {
     "data": {
      "text/plain": [
       "(torch.Tensor, torch.Tensor)"
      ]
     },
     "execution_count": 14,
     "metadata": {},
     "output_type": "execute_result"
    }
   ],
   "source": [
    "type(torch_from_np), type(torch_from_np2)"
   ]
  },
  {
   "cell_type": "code",
   "execution_count": 16,
   "metadata": {},
   "outputs": [
    {
     "data": {
      "text/plain": [
       "array([999,   2,   3,   4])"
      ]
     },
     "execution_count": 16,
     "metadata": {},
     "output_type": "execute_result"
    }
   ],
   "source": [
    "# array in herhangi bir elemanını değiştirme\n",
    "arr[0]=999\n",
    "arr"
   ]
  },
  {
   "cell_type": "code",
   "execution_count": 17,
   "metadata": {},
   "outputs": [
    {
     "data": {
      "text/plain": [
       "tensor([999,   2,   3,   4], dtype=torch.int32)"
      ]
     },
     "execution_count": 17,
     "metadata": {},
     "output_type": "execute_result"
    }
   ],
   "source": [
    "# görüldüğü gibi, numpy array üzerinde yapılan değişiklik tensor ü de etkiliyor.\n",
    "torch_from_np"
   ]
  },
  {
   "cell_type": "code",
   "execution_count": 18,
   "metadata": {},
   "outputs": [
    {
     "data": {
      "text/plain": [
       "tensor([999,   2,   3,   4], dtype=torch.int32)"
      ]
     },
     "execution_count": 18,
     "metadata": {},
     "output_type": "execute_result"
    }
   ],
   "source": [
    "# eğer numpy array üzerindeki değişikliğin tensorleri etkilememesini istiyorsak bu yöntemi kullanmalıyız\n",
    "son_tensor=torch.tensor(arr)\n",
    "son_tensor"
   ]
  },
  {
   "cell_type": "code",
   "execution_count": 20,
   "metadata": {},
   "outputs": [
    {
     "data": {
      "text/plain": [
       "array([555,   2,   3,   4])"
      ]
     },
     "execution_count": 20,
     "metadata": {},
     "output_type": "execute_result"
    }
   ],
   "source": [
    "arr[0]=555\n",
    "arr"
   ]
  },
  {
   "cell_type": "code",
   "execution_count": 21,
   "metadata": {},
   "outputs": [
    {
     "data": {
      "text/plain": [
       "(tensor([555,   2,   3,   4], dtype=torch.int32),\n",
       " tensor([555,   2,   3,   4], dtype=torch.int32))"
      ]
     },
     "execution_count": 21,
     "metadata": {},
     "output_type": "execute_result"
    }
   ],
   "source": [
    "torch_from_np,torch_from_np2"
   ]
  },
  {
   "cell_type": "code",
   "execution_count": 22,
   "metadata": {},
   "outputs": [
    {
     "data": {
      "text/plain": [
       "tensor([999,   2,   3,   4], dtype=torch.int32)"
      ]
     },
     "execution_count": 22,
     "metadata": {},
     "output_type": "execute_result"
    }
   ],
   "source": [
    "son_tensor"
   ]
  },
  {
   "cell_type": "markdown",
   "metadata": {},
   "source": [
    "### PyTorch Kütüphanesi -tensor,Tensor, arange, linspace"
   ]
  },
  {
   "cell_type": "code",
   "execution_count": 24,
   "metadata": {},
   "outputs": [],
   "source": [
    "arr=np.array([1,5,6,7])"
   ]
  },
  {
   "cell_type": "code",
   "execution_count": 26,
   "metadata": {},
   "outputs": [
    {
     "data": {
      "text/plain": [
       "tensor([1, 5, 6, 7], dtype=torch.int32)"
      ]
     },
     "execution_count": 26,
     "metadata": {},
     "output_type": "execute_result"
    }
   ],
   "source": [
    "new_arr=torch.tensor(arr)\n",
    "new_arr"
   ]
  },
  {
   "cell_type": "code",
   "execution_count": 28,
   "metadata": {},
   "outputs": [
    {
     "data": {
      "text/plain": [
       "(tensor([1., 5., 6., 7.]), torch.float32)"
      ]
     },
     "execution_count": 28,
     "metadata": {},
     "output_type": "execute_result"
    }
   ],
   "source": [
    "# tensor yapısının int değil de float olmasını istiyorsak Tensor kelimesini büyük harfle yazmalıyız \n",
    "new_arr2=torch.Tensor(arr)\n",
    "new_arr2, new_arr2.dtype"
   ]
  },
  {
   "cell_type": "code",
   "execution_count": 29,
   "metadata": {},
   "outputs": [
    {
     "data": {
      "text/plain": [
       "(tensor([1., 5., 6., 7.]), torch.float32)"
      ]
     },
     "execution_count": 29,
     "metadata": {},
     "output_type": "execute_result"
    }
   ],
   "source": [
    "# yukarıdaki işlemin aynısını şu kodlarla da yapabiliriz\n",
    "new_arr2=torch.FloatTensor(arr)\n",
    "new_arr2, new_arr2.dtype"
   ]
  },
  {
   "cell_type": "code",
   "execution_count": 30,
   "metadata": {},
   "outputs": [
    {
     "data": {
      "text/plain": [
       "tensor([[0., 0., 0.],\n",
       "        [0., 0., 0.]])"
      ]
     },
     "execution_count": 30,
     "metadata": {},
     "output_type": "execute_result"
    }
   ],
   "source": [
    "# placeholder oluşturmak için\n",
    "torch.empty(2,3)"
   ]
  },
  {
   "cell_type": "code",
   "execution_count": 32,
   "metadata": {},
   "outputs": [
    {
     "data": {
      "text/plain": [
       "tensor([[0, 0, 0],\n",
       "        [0, 0, 0]], dtype=torch.int32)"
      ]
     },
     "execution_count": 32,
     "metadata": {},
     "output_type": "execute_result"
    }
   ],
   "source": [
    "torch.zeros(2,3, dtype=torch.int32)"
   ]
  },
  {
   "cell_type": "code",
   "execution_count": 33,
   "metadata": {},
   "outputs": [
    {
     "data": {
      "text/plain": [
       "tensor([[1., 1., 1.],\n",
       "        [1., 1., 1.]])"
      ]
     },
     "execution_count": 33,
     "metadata": {},
     "output_type": "execute_result"
    }
   ],
   "source": [
    "torch.ones(2,3)"
   ]
  },
  {
   "cell_type": "code",
   "execution_count": 36,
   "metadata": {},
   "outputs": [
    {
     "data": {
      "text/plain": [
       "tensor([[ 0,  2,  4],\n",
       "        [ 6,  8, 10],\n",
       "        [12, 14, 16]])"
      ]
     },
     "execution_count": 36,
     "metadata": {},
     "output_type": "execute_result"
    }
   ],
   "source": [
    "# torch arange, linspace ve reshape metodu\n",
    "torch.arange(0,18,2).reshape(3,3)"
   ]
  },
  {
   "cell_type": "code",
   "execution_count": 37,
   "metadata": {},
   "outputs": [
    {
     "data": {
      "text/plain": [
       "tensor([[ 1.0000,  1.8182,  2.6364],\n",
       "        [ 3.4545,  4.2727,  5.0909],\n",
       "        [ 5.9091,  6.7273,  7.5455],\n",
       "        [ 8.3636,  9.1818, 10.0000]])"
      ]
     },
     "execution_count": 37,
     "metadata": {},
     "output_type": "execute_result"
    }
   ],
   "source": [
    "torch.linspace(1,10,12).reshape(4,3)"
   ]
  },
  {
   "cell_type": "code",
   "execution_count": 38,
   "metadata": {},
   "outputs": [
    {
     "data": {
      "text/plain": [
       "torch.int64"
      ]
     },
     "execution_count": 38,
     "metadata": {},
     "output_type": "execute_result"
    }
   ],
   "source": [
    "# tip dönüşümü \n",
    "my_tensor=torch.tensor([5,6,8,4,6])\n",
    "my_tensor.dtype"
   ]
  },
  {
   "cell_type": "code",
   "execution_count": 41,
   "metadata": {},
   "outputs": [
    {
     "data": {
      "text/plain": [
       "(tensor([5., 6., 8., 4., 6.], dtype=torch.float16), torch.int64)"
      ]
     },
     "execution_count": 41,
     "metadata": {},
     "output_type": "execute_result"
    }
   ],
   "source": [
    "my_tensor.type(torch.float16), my_tensor.dtype"
   ]
  },
  {
   "cell_type": "markdown",
   "metadata": {},
   "source": [
    "### PyTorch Kütüphanesi - Rastgele Sayı Oluşturma"
   ]
  },
  {
   "cell_type": "code",
   "execution_count": 42,
   "metadata": {},
   "outputs": [
    {
     "data": {
      "text/plain": [
       "tensor([[0.4326, 0.4566, 0.2607],\n",
       "        [0.4054, 0.5816, 0.4341],\n",
       "        [0.2477, 0.2259, 0.9306],\n",
       "        [0.0298, 0.4459, 0.8025]])"
      ]
     },
     "execution_count": 42,
     "metadata": {},
     "output_type": "execute_result"
    }
   ],
   "source": [
    "# uniform dağılımlı ( 0-1 arası sayı) sayılar oluşturma\n",
    "torch.rand(4,3)"
   ]
  },
  {
   "cell_type": "code",
   "execution_count": 44,
   "metadata": {},
   "outputs": [
    {
     "data": {
      "text/plain": [
       "tensor([[ 0.1295,  0.5624, -0.2986],\n",
       "        [-0.1545,  1.0504, -0.5705]])"
      ]
     },
     "execution_count": 44,
     "metadata": {},
     "output_type": "execute_result"
    }
   ],
   "source": [
    "# normal dağılımlı ( st sapma 1, ortalama 0 olan) sayılar oluşturma\n",
    "torch.randn(2,3)"
   ]
  },
  {
   "cell_type": "code",
   "execution_count": 45,
   "metadata": {},
   "outputs": [
    {
     "data": {
      "text/plain": [
       "tensor([[ 7,  7,  8, 10,  4],\n",
       "        [ 8,  9,  8, 10,  9],\n",
       "        [ 7, 10, 10,  8,  5],\n",
       "        [ 4,  7,  8,  6,  4],\n",
       "        [ 6,  2,  9,  7,  6]])"
      ]
     },
     "execution_count": 45,
     "metadata": {},
     "output_type": "execute_result"
    }
   ],
   "source": [
    "# rastgele random int sayılar oluşturma\n",
    "torch.randint(low=2,high=11,size=(5,5))"
   ]
  },
  {
   "cell_type": "code",
   "execution_count": 49,
   "metadata": {},
   "outputs": [
    {
     "data": {
      "text/plain": [
       "(tensor([[0., 0., 0., 0., 0.],\n",
       "         [0., 0., 0., 0., 0.]]),\n",
       " torch.Size([2, 5]))"
      ]
     },
     "execution_count": 49,
     "metadata": {},
     "output_type": "execute_result"
    }
   ],
   "source": [
    "x=torch.zeros(2,5)\n",
    "x, x.shape"
   ]
  },
  {
   "cell_type": "code",
   "execution_count": 50,
   "metadata": {},
   "outputs": [
    {
     "data": {
      "text/plain": [
       "tensor([[0.6095, 0.0742, 0.0060, 0.6402, 0.5563],\n",
       "        [0.1608, 0.6327, 0.3020, 0.2321, 0.8286]])"
      ]
     },
     "execution_count": 50,
     "metadata": {},
     "output_type": "execute_result"
    }
   ],
   "source": [
    "# satır ve sütun sayısını bir değişkenden alan random uniform dağılımlı matris oluşturma\n",
    "torch.rand_like(x)"
   ]
  },
  {
   "cell_type": "code",
   "execution_count": 51,
   "metadata": {},
   "outputs": [
    {
     "data": {
      "text/plain": [
       "tensor([[-0.8923,  0.7111,  1.1852, -0.1527,  0.3691],\n",
       "        [-1.1259,  0.1391,  0.4367,  2.1597, -0.0596]])"
      ]
     },
     "execution_count": 51,
     "metadata": {},
     "output_type": "execute_result"
    }
   ],
   "source": [
    "# satır ve sütun sayısını bir değişkenden alan random normal dağılımlı matris oluşturma\n",
    "torch.randn_like(x)"
   ]
  },
  {
   "cell_type": "code",
   "execution_count": 52,
   "metadata": {},
   "outputs": [
    {
     "data": {
      "text/plain": [
       "tensor([[5., 7., 8., 7., 8.],\n",
       "        [8., 4., 6., 9., 8.]])"
      ]
     },
     "execution_count": 52,
     "metadata": {},
     "output_type": "execute_result"
    }
   ],
   "source": [
    "# satır ve sütun sayısını bir değişkenden alan random integer dağılımlı matris oluşturma\n",
    "torch.randint_like(x, low=2, high=11)"
   ]
  },
  {
   "cell_type": "code",
   "execution_count": 56,
   "metadata": {},
   "outputs": [
    {
     "data": {
      "text/plain": [
       "tensor([[0.8823, 0.9150],\n",
       "        [0.3829, 0.9593],\n",
       "        [0.3904, 0.6009],\n",
       "        [0.2566, 0.7936],\n",
       "        [0.9408, 0.1332]])"
      ]
     },
     "execution_count": 56,
     "metadata": {},
     "output_type": "execute_result"
    }
   ],
   "source": [
    "# torch da seed kullanımı\n",
    "torch.manual_seed(42)\n",
    "torch.rand(5,2)"
   ]
  },
  {
   "cell_type": "markdown",
   "metadata": {},
   "source": [
    "### PyTorch Kütüphanesi - view ve reshape metodları"
   ]
  },
  {
   "cell_type": "code",
   "execution_count": 59,
   "metadata": {},
   "outputs": [
    {
     "data": {
      "text/plain": [
       "tensor([[0, 1],\n",
       "        [2, 3],\n",
       "        [4, 5]])"
      ]
     },
     "execution_count": 59,
     "metadata": {},
     "output_type": "execute_result"
    }
   ],
   "source": [
    "x=torch.arange(6).reshape(3,2)\n",
    "x"
   ]
  },
  {
   "cell_type": "code",
   "execution_count": 62,
   "metadata": {},
   "outputs": [
    {
     "data": {
      "text/plain": [
       "(tensor(3),\n",
       " tensor([[1],\n",
       "         [3],\n",
       "         [5]]))"
      ]
     },
     "execution_count": 62,
     "metadata": {},
     "output_type": "execute_result"
    }
   ],
   "source": [
    "# standart erişme işlemleri torch yapısı için de geçerli\n",
    "x[1,1], x[:,1:]"
   ]
  },
  {
   "cell_type": "code",
   "execution_count": 69,
   "metadata": {},
   "outputs": [
    {
     "data": {
      "text/plain": [
       "tensor([0, 1, 2, 3, 4, 5, 6, 7, 8, 9])"
      ]
     },
     "execution_count": 69,
     "metadata": {},
     "output_type": "execute_result"
    }
   ],
   "source": [
    "x=torch.arange(10)\n",
    "x"
   ]
  },
  {
   "cell_type": "code",
   "execution_count": 65,
   "metadata": {},
   "outputs": [
    {
     "data": {
      "text/plain": [
       "tensor([[0, 1],\n",
       "        [2, 3],\n",
       "        [4, 5],\n",
       "        [6, 7],\n",
       "        [8, 9]])"
      ]
     },
     "execution_count": 65,
     "metadata": {},
     "output_type": "execute_result"
    }
   ],
   "source": [
    "# view metodu reshape metodu gibidir, x de yapılan değişiklik z üzerinde etki eder\n",
    "z=x.view(5,2)\n",
    "z"
   ]
  },
  {
   "cell_type": "code",
   "execution_count": 71,
   "metadata": {},
   "outputs": [
    {
     "data": {
      "text/plain": [
       "(tensor([9999,    1,    2,    3,    4,    5,    6,    7,    8,    9]),\n",
       " tensor([[9999,    1],\n",
       "         [   2,    3],\n",
       "         [   4,    5],\n",
       "         [   6,    7],\n",
       "         [   8,    9]]))"
      ]
     },
     "execution_count": 71,
     "metadata": {},
     "output_type": "execute_result"
    }
   ],
   "source": [
    "x[0]=9999\n",
    "x,z"
   ]
  },
  {
   "cell_type": "markdown",
   "metadata": {},
   "source": [
    "NOT: Araştırdığım kadarıyla x üzerinde yapılan değişiklik reshape metoduyla oluşturulan nesneyi etkilemezken, view metodu ile oluşturulan nesneleri etkiliyor."
   ]
  },
  {
   "cell_type": "code",
   "execution_count": 74,
   "metadata": {},
   "outputs": [
    {
     "data": {
      "text/plain": [
       "tensor([[9999,    1],\n",
       "        [   2,    3],\n",
       "        [   4,    5],\n",
       "        [   6,    7],\n",
       "        [   8,    9]])"
      ]
     },
     "execution_count": 74,
     "metadata": {},
     "output_type": "execute_result"
    }
   ],
   "source": [
    "# satır sayısını belirleyip sütun sayısını bilgisayarın ayarlamasını istediğimizde\n",
    "x.view(5,-1)"
   ]
  },
  {
   "cell_type": "code",
   "execution_count": 75,
   "metadata": {},
   "outputs": [
    {
     "data": {
      "text/plain": [
       "tensor([[9999,    1,    2,    3,    4],\n",
       "        [   5,    6,    7,    8,    9]])"
      ]
     },
     "execution_count": 75,
     "metadata": {},
     "output_type": "execute_result"
    }
   ],
   "source": [
    "# sütun sayısını belirleyip satır sayısını bilgisayarın ayarlamasını istediğimizde\n",
    "x.view(-1, 5)"
   ]
  },
  {
   "cell_type": "markdown",
   "metadata": {},
   "source": [
    "### PyTorch Kütüphanesi - Matematiksel İşlemler"
   ]
  },
  {
   "cell_type": "code",
   "execution_count": 76,
   "metadata": {},
   "outputs": [
    {
     "data": {
      "text/plain": [
       "(tensor([1, 2, 3]), tensor([4, 5, 6]))"
      ]
     },
     "execution_count": 76,
     "metadata": {},
     "output_type": "execute_result"
    }
   ],
   "source": [
    "a=torch.tensor([1,2,3])\n",
    "b=torch.tensor([4,5,6])\n",
    "a,b"
   ]
  },
  {
   "cell_type": "code",
   "execution_count": 77,
   "metadata": {},
   "outputs": [
    {
     "data": {
      "text/plain": [
       "tensor([5, 7, 9])"
      ]
     },
     "execution_count": 77,
     "metadata": {},
     "output_type": "execute_result"
    }
   ],
   "source": [
    "a+b"
   ]
  },
  {
   "cell_type": "code",
   "execution_count": 78,
   "metadata": {},
   "outputs": [
    {
     "data": {
      "text/plain": [
       "tensor([5, 7, 9])"
      ]
     },
     "execution_count": 78,
     "metadata": {},
     "output_type": "execute_result"
    }
   ],
   "source": [
    "torch.add(a,b)"
   ]
  },
  {
   "cell_type": "code",
   "execution_count": 79,
   "metadata": {},
   "outputs": [
    {
     "data": {
      "text/plain": [
       "tensor([-3, -3, -3])"
      ]
     },
     "execution_count": 79,
     "metadata": {},
     "output_type": "execute_result"
    }
   ],
   "source": [
    "torch.sub(a,b)"
   ]
  },
  {
   "cell_type": "code",
   "execution_count": 80,
   "metadata": {},
   "outputs": [
    {
     "data": {
      "text/plain": [
       "tensor([ 4, 10, 18])"
      ]
     },
     "execution_count": 80,
     "metadata": {},
     "output_type": "execute_result"
    }
   ],
   "source": [
    "torch.mul(a,b)"
   ]
  },
  {
   "cell_type": "code",
   "execution_count": 82,
   "metadata": {},
   "outputs": [
    {
     "data": {
      "text/plain": [
       "tensor([5, 7, 9])"
      ]
     },
     "execution_count": 82,
     "metadata": {},
     "output_type": "execute_result"
    }
   ],
   "source": [
    "a=torch.tensor([1,2,3])\n",
    "b=torch.tensor([4,5,6])\n",
    "a=a+b\n",
    "a"
   ]
  },
  {
   "cell_type": "code",
   "execution_count": 83,
   "metadata": {},
   "outputs": [
    {
     "data": {
      "text/plain": [
       "tensor([20, 35, 54])"
      ]
     },
     "execution_count": 83,
     "metadata": {},
     "output_type": "execute_result"
    }
   ],
   "source": [
    "# a nın b ile çarpımını a ya eşitledi\n",
    "a.mul_(b)"
   ]
  },
  {
   "cell_type": "code",
   "execution_count": 84,
   "metadata": {},
   "outputs": [
    {
     "data": {
      "text/plain": [
       "tensor([20, 35, 54])"
      ]
     },
     "execution_count": 84,
     "metadata": {},
     "output_type": "execute_result"
    }
   ],
   "source": [
    "a"
   ]
  },
  {
   "cell_type": "markdown",
   "metadata": {},
   "source": [
    "\n",
    " \n",
    " \n",
    "  \n",
    " \n",
    "  "
   ]
  },
  {
   "cell_type": "code",
   "execution_count": 86,
   "metadata": {},
   "outputs": [],
   "source": [
    "a=torch.tensor([[1,2,3],[4,5,6]])\n",
    "b=torch.tensor([[4,5],[5,6],[8,9]])\n",
    "c=torch.tensor([4,5,6])"
   ]
  },
  {
   "cell_type": "code",
   "execution_count": 87,
   "metadata": {},
   "outputs": [
    {
     "data": {
      "text/plain": [
       "tensor([16, 25, 36])"
      ]
     },
     "execution_count": 87,
     "metadata": {},
     "output_type": "execute_result"
    }
   ],
   "source": [
    "c.pow(2)"
   ]
  },
  {
   "cell_type": "code",
   "execution_count": 88,
   "metadata": {},
   "outputs": [
    {
     "data": {
      "text/plain": [
       "tensor([26, 27, 28])"
      ]
     },
     "execution_count": 88,
     "metadata": {},
     "output_type": "execute_result"
    }
   ],
   "source": [
    "c+22"
   ]
  },
  {
   "cell_type": "code",
   "execution_count": 90,
   "metadata": {},
   "outputs": [
    {
     "data": {
      "text/plain": [
       "tensor([20, 25, 30])"
      ]
     },
     "execution_count": 90,
     "metadata": {},
     "output_type": "execute_result"
    }
   ],
   "source": [
    "c*5"
   ]
  },
  {
   "cell_type": "code",
   "execution_count": 91,
   "metadata": {},
   "outputs": [
    {
     "data": {
      "text/plain": [
       "(torch.Size([2, 3]), torch.Size([3, 2]))"
      ]
     },
     "execution_count": 91,
     "metadata": {},
     "output_type": "execute_result"
    }
   ],
   "source": [
    "a.shape, b.shape"
   ]
  },
  {
   "cell_type": "code",
   "execution_count": 92,
   "metadata": {},
   "outputs": [
    {
     "data": {
      "text/plain": [
       "tensor([[ 38,  44],\n",
       "        [ 89, 104]])"
      ]
     },
     "execution_count": 92,
     "metadata": {},
     "output_type": "execute_result"
    }
   ],
   "source": [
    "# matris çarpma işlemi\n",
    "torch.mm(a,b) "
   ]
  },
  {
   "cell_type": "code",
   "execution_count": 94,
   "metadata": {},
   "outputs": [
    {
     "data": {
      "text/plain": [
       "tensor([[ 38,  44],\n",
       "        [ 89, 104]])"
      ]
     },
     "execution_count": 94,
     "metadata": {},
     "output_type": "execute_result"
    }
   ],
   "source": [
    "# ya da\n",
    "a@b"
   ]
  },
  {
   "cell_type": "code",
   "execution_count": 95,
   "metadata": {},
   "outputs": [
    {
     "data": {
      "text/plain": [
       "2"
      ]
     },
     "execution_count": 95,
     "metadata": {},
     "output_type": "execute_result"
    }
   ],
   "source": [
    "len(a)"
   ]
  },
  {
   "cell_type": "code",
   "execution_count": 97,
   "metadata": {},
   "outputs": [
    {
     "data": {
      "text/plain": [
       "6"
      ]
     },
     "execution_count": 97,
     "metadata": {},
     "output_type": "execute_result"
    }
   ],
   "source": [
    "a.numel()"
   ]
  },
  {
   "cell_type": "markdown",
   "metadata": {},
   "source": [
    "# Yapay Sinir Ağları (Artificial Neural Networks)"
   ]
  },
  {
   "cell_type": "markdown",
   "metadata": {},
   "source": [
    "### PyTorch ile Gradient Alma"
   ]
  },
  {
   "cell_type": "code",
   "execution_count": 12,
   "metadata": {},
   "outputs": [
    {
     "data": {
      "text/plain": [
       "tensor(2., requires_grad=True)"
      ]
     },
     "execution_count": 12,
     "metadata": {},
     "output_type": "execute_result"
    }
   ],
   "source": [
    "x=torch.tensor(2.0, requires_grad=True) # x değerinin türevlenebilir olduğunu belirtiyoruz\n",
    "x"
   ]
  },
  {
   "cell_type": "code",
   "execution_count": 13,
   "metadata": {},
   "outputs": [
    {
     "data": {
      "text/plain": [
       "tensor(63., grad_fn=<AddBackward0>)"
      ]
     },
     "execution_count": 13,
     "metadata": {},
     "output_type": "execute_result"
    }
   ],
   "source": [
    "y=2*x**4+x**3+3*x**2+5*x+1\n",
    "y"
   ]
  },
  {
   "cell_type": "code",
   "execution_count": 14,
   "metadata": {},
   "outputs": [],
   "source": [
    "y.backward()"
   ]
  },
  {
   "cell_type": "code",
   "execution_count": 15,
   "metadata": {},
   "outputs": [
    {
     "data": {
      "text/plain": [
       "tensor(93.)"
      ]
     },
     "execution_count": 15,
     "metadata": {},
     "output_type": "execute_result"
    }
   ],
   "source": [
    "x.grad # x değerini türevliyoruz"
   ]
  },
  {
   "cell_type": "markdown",
   "metadata": {},
   "source": [
    " \n",
    " \n",
    " \n",
    " "
   ]
  },
  {
   "cell_type": "markdown",
   "metadata": {},
   "source": [
    " "
   ]
  },
  {
   "cell_type": "code",
   "execution_count": 17,
   "metadata": {},
   "outputs": [
    {
     "data": {
      "text/plain": [
       "tensor([[1., 2., 3.],\n",
       "        [3., 2., 1.]], requires_grad=True)"
      ]
     },
     "execution_count": 17,
     "metadata": {},
     "output_type": "execute_result"
    }
   ],
   "source": [
    "x=torch.tensor([[1.,2.,3.],[3.,2.,1.]], requires_grad=True)\n",
    "x"
   ]
  },
  {
   "cell_type": "code",
   "execution_count": 18,
   "metadata": {},
   "outputs": [
    {
     "data": {
      "text/plain": [
       "tensor(140., grad_fn=<MeanBackward0>)"
      ]
     },
     "execution_count": 18,
     "metadata": {},
     "output_type": "execute_result"
    }
   ],
   "source": [
    "y=3*x+2\n",
    "z=2*y**2\n",
    "out=z.mean()\n",
    "out"
   ]
  },
  {
   "cell_type": "code",
   "execution_count": 19,
   "metadata": {},
   "outputs": [
    {
     "data": {
      "text/plain": [
       "tensor([[10., 16., 22.],\n",
       "        [22., 16., 10.]])"
      ]
     },
     "execution_count": 19,
     "metadata": {},
     "output_type": "execute_result"
    }
   ],
   "source": [
    "out.backward()\n",
    "x.grad"
   ]
  },
  {
   "cell_type": "markdown",
   "metadata": {},
   "source": [
    "### PyTorch ile Lineer Regresyon"
   ]
  },
  {
   "cell_type": "code",
   "execution_count": 22,
   "metadata": {},
   "outputs": [],
   "source": [
    "import matplotlib.pyplot as plt\n",
    "%matplotlib inline\n",
    "import torch.nn as nn"
   ]
  },
  {
   "cell_type": "code",
   "execution_count": 28,
   "metadata": {},
   "outputs": [],
   "source": [
    "X=torch.linspace(1,50,50).reshape(-1,1)"
   ]
  },
  {
   "cell_type": "code",
   "execution_count": 26,
   "metadata": {},
   "outputs": [],
   "source": [
    "torch.manual_seed(42)\n",
    "e=torch.randint(-8,9,(50,1),dtype=torch.float)"
   ]
  },
  {
   "cell_type": "code",
   "execution_count": 31,
   "metadata": {},
   "outputs": [
    {
     "data": {
      "text/plain": [
       "torch.Size([50, 1])"
      ]
     },
     "execution_count": 31,
     "metadata": {},
     "output_type": "execute_result"
    }
   ],
   "source": [
    "y=2*X+1+e\n",
    "y.shape"
   ]
  },
  {
   "cell_type": "code",
   "execution_count": 33,
   "metadata": {},
   "outputs": [
    {
     "data": {
      "image/png": "[encoded data removed]",
      "text/plain": [
       "<Figure size 432x288 with 1 Axes>"
      ]
     },
     "metadata": {
      "needs_background": "light"
     },
     "output_type": "display_data"
    }
   ],
   "source": [
    "plt.scatter(X.numpy(),y.numpy());"
   ]
  },
  {
   "cell_type": "code",
   "execution_count": 38,
   "metadata": {},
   "outputs": [
    {
     "data": {
      "text/plain": [
       "(Parameter containing:\n",
       " tensor([[0.7645]], requires_grad=True),\n",
       " Parameter containing:\n",
       " tensor([0.8300], requires_grad=True))"
      ]
     },
     "execution_count": 38,
     "metadata": {},
     "output_type": "execute_result"
    }
   ],
   "source": [
    "torch.manual_seed(42)\n",
    "model=nn.Linear(in_features=1, out_features=1)\n",
    "model.weight, model.bias"
   ]
  },
  {
   "cell_type": "code",
   "execution_count": 40,
   "metadata": {},
   "outputs": [],
   "source": [
    "class Model(nn.Module):\n",
    "    def __init__(self, in_features, out_features):\n",
    "        super().__init__()\n",
    "        self.lineer=nn.Linear(in_features, out_features)\n",
    "        \n",
    "    def forward(self, x):\n",
    "        y_pred=self.lineer(x)\n",
    "        return y_pred"
   ]
  },
  {
   "cell_type": "code",
   "execution_count": 41,
   "metadata": {},
   "outputs": [
    {
     "data": {
      "text/plain": [
       "(Parameter containing:\n",
       " tensor([[0.7645]], requires_grad=True),\n",
       " Parameter containing:\n",
       " tensor([0.8300], requires_grad=True))"
      ]
     },
     "execution_count": 41,
     "metadata": {},
     "output_type": "execute_result"
    }
   ],
   "source": [
    "torch.manual_seed(42)\n",
    "model=Model(1,1)\n",
    "model.lineer.weight, model.lineer.bias"
   ]
  },
  {
   "cell_type": "code",
   "execution_count": 43,
   "metadata": {},
   "outputs": [
    {
     "name": "stdout",
     "output_type": "stream",
     "text": [
      "lineer.weight \t 0.7645385265350342\n",
      "lineer.bias \t 0.8300079107284546\n"
     ]
    }
   ],
   "source": [
    "for name, param in model.named_parameters():\n",
    "    print(name,'\\t',param.item())"
   ]
  },
  {
   "cell_type": "code",
   "execution_count": 45,
   "metadata": {},
   "outputs": [
    {
     "data": {
      "text/plain": [
       "tensor([2.3591], grad_fn=<AddBackward0>)"
      ]
     },
     "execution_count": 45,
     "metadata": {},
     "output_type": "execute_result"
    }
   ],
   "source": [
    "x=torch.tensor([2.0])\n",
    "model.forward(x)"
   ]
  },
  {
   "cell_type": "code",
   "execution_count": 48,
   "metadata": {},
   "outputs": [
    {
     "data": {
      "text/plain": [
       "array([ 1.,  2.,  3.,  4.,  5.,  6.,  7.,  8.,  9., 10., 11., 12., 13.,\n",
       "       14., 15., 16., 17., 18., 19., 20., 21., 22., 23., 24., 25., 26.,\n",
       "       27., 28., 29., 30., 31., 32., 33., 34., 35., 36., 37., 38., 39.,\n",
       "       40., 41., 42., 43., 44., 45., 46., 47., 48., 49., 50.])"
      ]
     },
     "execution_count": 48,
     "metadata": {},
     "output_type": "execute_result"
    }
   ],
   "source": [
    "x1=np.linspace(1.0,50.0,50)\n",
    "x1"
   ]
  },
  {
   "cell_type": "code",
   "execution_count": 49,
   "metadata": {},
   "outputs": [
    {
     "data": {
      "text/plain": [
       "array([ 1.36977414,  1.77575214,  2.18173014,  2.58770814,  2.99368614,\n",
       "        3.39966414,  3.80564214,  4.21162014,  4.61759814,  5.02357614,\n",
       "        5.42955414,  5.83553214,  6.24151014,  6.64748814,  7.05346614,\n",
       "        7.45944414,  7.86542214,  8.27140014,  8.67737814,  9.08335614,\n",
       "        9.48933414,  9.89531214, 10.30129014, 10.70726814, 11.11324614,\n",
       "       11.51922414, 11.92520214, 12.33118014, 12.73715814, 13.14313614,\n",
       "       13.54911414, 13.95509214, 14.36107014, 14.76704814, 15.17302614,\n",
       "       15.57900414, 15.98498214, 16.39096014, 16.79693814, 17.20291614,\n",
       "       17.60889414, 18.01487214, 18.42085014, 18.82682814, 19.23280614,\n",
       "       19.63878414, 20.04476214, 20.45074014, 20.85671814, 21.26269614])"
      ]
     },
     "execution_count": 49,
     "metadata": {},
     "output_type": "execute_result"
    }
   ],
   "source": [
    "w1=0.405978\n",
    "b1=0.963796138\n",
    "y1=w1*x1+b1\n",
    "y1"
   ]
  },
  {
   "cell_type": "code",
   "execution_count": 51,
   "metadata": {
    "scrolled": true
   },
   "outputs": [
    {
     "data": {
      "image/png": "[encoded data removed]",
      "text/plain": [
       "<Figure size 432x288 with 1 Axes>"
      ]
     },
     "metadata": {
      "needs_background": "light"
     },
     "output_type": "display_data"
    }
   ],
   "source": [
    "plt.scatter(X.numpy(),y.numpy())\n",
    "plt.plot(x1,y1,'r');"
   ]
  },
  {
   "cell_type": "code",
   "execution_count": 52,
   "metadata": {},
   "outputs": [],
   "source": [
    "criterion=nn.MSELoss()  # loss function seçtik\n",
    "optimizer=torch.optim.SGD(model.parameters(),lr=0.001)  # optim adlı optimizerı seçtik"
   ]
  },
  {
   "cell_type": "code",
   "execution_count": 62,
   "metadata": {},
   "outputs": [
    {
     "name": "stdout",
     "output_type": "stream",
     "text": [
      "epoch 1 loss: 1284.18310546875 weight: 0.7645385265350342 bias: 0.8300079107284546\n",
      "epoch 2 loss: 672.6825561523438 weight: 2.848055124282837 bias: 0.8914364576339722\n",
      "epoch 3 loss: 356.9870300292969 weight: 1.3510414361953735 bias: 0.8464827537536621\n",
      "epoch 4 loss: 194.00503540039062 weight: 2.4266929626464844 bias: 0.8779667019844055\n",
      "epoch 5 loss: 109.86296844482422 weight: 1.6538447141647339 bias: 0.8545294404029846\n",
      "epoch 6 loss: 66.4232406616211 weight: 2.209172248840332 bias: 0.8705543279647827\n",
      "epoch 7 loss: 43.996788024902344 weight: 1.8101853132247925 bias: 0.8582254648208618\n",
      "epoch 8 loss: 32.418704986572266 weight: 2.0968875885009766 bias: 0.866269588470459\n",
      "epoch 9 loss: 26.441265106201172 weight: 1.8909118175506592 bias: 0.8596757650375366\n",
      "epoch 10 loss: 23.355213165283203 weight: 2.0389328002929688 bias: 0.8635998964309692\n",
      "epoch 11 loss: 21.761878967285156 weight: 1.9326014518737793 bias: 0.8599671125411987\n",
      "epoch 12 loss: 20.939184188842773 weight: 2.009026288986206 bias: 0.8617644906044006\n",
      "epoch 13 loss: 20.514354705810547 weight: 1.9541382789611816 bias: 0.8596606254577637\n",
      "epoch 14 loss: 20.294923782348633 weight: 1.9936002492904663 bias: 0.8603602647781372\n",
      "epoch 15 loss: 20.18152618408203 weight: 1.9652702808380127 bias: 0.8590459227561951\n",
      "epoch 16 loss: 20.122886657714844 weight: 1.985649824142456 bias: 0.8591790199279785\n",
      "epoch 17 loss: 20.092498779296875 weight: 1.9710310697555542 bias: 0.8582724928855896\n",
      "epoch 18 loss: 20.076696395874023 weight: 1.9815590381622314 bias: 0.8581133484840393\n",
      "epoch 19 loss: 20.06844711303711 weight: 1.9740183353424072 bias: 0.8574175834655762\n",
      "epoch 20 loss: 20.064069747924805 weight: 1.979460597038269 bias: 0.8571078181266785\n",
      "epoch 21 loss: 20.061704635620117 weight: 1.975574254989624 bias: 0.8565211296081543\n",
      "epoch 22 loss: 20.060379028320312 weight: 1.9783906936645508 bias: 0.8561338186264038\n",
      "epoch 23 loss: 20.059581756591797 weight: 1.976391077041626 bias: 0.8556036353111267\n",
      "epoch 24 loss: 20.059066772460938 weight: 1.9778517484664917 bias: 0.8551765084266663\n",
      "epoch 25 loss: 20.058692932128906 weight: 1.9768263101577759 bias: 0.8546757102012634\n",
      "epoch 26 loss: 20.058399200439453 weight: 1.977587103843689 bias: 0.8542281985282898\n",
      "epoch 27 loss: 20.058134078979492 weight: 1.9770644903182983 bias: 0.853742778301239\n",
      "epoch 28 loss: 20.057893753051758 weight: 1.9774638414382935 bias: 0.853285014629364\n",
      "epoch 29 loss: 20.057662963867188 weight: 1.9772008657455444 bias: 0.8528077602386475\n",
      "epoch 30 loss: 20.05743408203125 weight: 1.9774137735366821 bias: 0.8523449301719666\n",
      "epoch 31 loss: 20.05721092224121 weight: 1.9772846698760986 bias: 0.8518721461296082\n",
      "epoch 32 loss: 20.056987762451172 weight: 1.9774012565612793 bias: 0.8514068722724915\n",
      "epoch 33 loss: 20.056774139404297 weight: 1.9773414134979248 bias: 0.8509365916252136\n",
      "epoch 34 loss: 20.056550979614258 weight: 1.9774084091186523 bias: 0.8504703044891357\n",
      "epoch 35 loss: 20.056337356567383 weight: 1.977384090423584 bias: 0.8500015139579773\n",
      "epoch 36 loss: 20.056116104125977 weight: 1.9774255752563477 bias: 0.8495349287986755\n",
      "epoch 37 loss: 20.05590057373047 weight: 1.9774196147918701 bias: 0.8490671515464783\n",
      "epoch 38 loss: 20.055683135986328 weight: 1.977447748184204 bias: 0.8486006259918213\n",
      "epoch 39 loss: 20.055452346801758 weight: 1.9774513244628906 bias: 0.8481335639953613\n",
      "epoch 40 loss: 20.05524444580078 weight: 1.9774725437164307 bias: 0.8476672768592834\n",
      "epoch 41 loss: 20.055030822753906 weight: 1.9774812459945679 bias: 0.847200870513916\n",
      "epoch 42 loss: 20.0548095703125 weight: 1.9774987697601318 bias: 0.8467349410057068\n",
      "epoch 43 loss: 20.054594039916992 weight: 1.9775099754333496 bias: 0.8462690114974976\n",
      "epoch 44 loss: 20.054372787475586 weight: 1.9775257110595703 bias: 0.845803439617157\n",
      "epoch 45 loss: 20.054157257080078 weight: 1.9775381088256836 bias: 0.8453380465507507\n",
      "epoch 46 loss: 20.053937911987305 weight: 1.9775530099868774 bias: 0.8448729515075684\n",
      "epoch 47 loss: 20.053722381591797 weight: 1.9775660037994385 bias: 0.8444079756736755\n",
      "epoch 48 loss: 20.053512573242188 weight: 1.9775804281234741 bias: 0.8439432978630066\n",
      "epoch 49 loss: 20.05329704284668 weight: 1.9775937795639038 bias: 0.843478798866272\n",
      "epoch 50 loss: 20.053075790405273 weight: 1.9776079654693604 bias: 0.8430145382881165\n"
     ]
    }
   ],
   "source": [
    "epochs=50 # kaç tur deneyelim\n",
    "losses=[] # oluşan loss değerleri losses dizisine toplamak için boş dizi oluşturduk\n",
    "for i in range(epochs):\n",
    "    i=i+1\n",
    "    y_pred=model.forward(X) # X'in türevlerine göre tahminler oluştur\n",
    "    loss=criterion(y_pred, y) # loss function a göre asıl y değerlerinden tahmin y değerlerinin kayıp olan kısımlarını hesaplar\n",
    "    losses.append(loss)\n",
    "    print(f\"epoch {i} loss: {loss.item()} weight: {model.lineer.weight.item()} bias: {model.lineer.bias.item()}\")\n",
    "    optimizer.zero_grad() # her döngüde bir önceki döngüde yapılan işlemleri unutturduk\n",
    "    loss.backward() # weith and bias değerlerini de default değerlerine dönderdi ( back propagation yaptık ) \n",
    "    optimizer.step() # optimizer a tekrar işleme sokuyoruz"
   ]
  },
  {
   "cell_type": "code",
   "execution_count": 63,
   "metadata": {},
   "outputs": [
    {
     "data": {
      "text/plain": [
       "Text(0.5, 0, 'Epoch')"
      ]
     },
     "execution_count": 63,
     "metadata": {},
     "output_type": "execute_result"
    },
    {
     "data": {
      "image/png": "[encoded data removed]",
      "text/plain": [
       "<Figure size 432x288 with 1 Axes>"
      ]
     },
     "metadata": {
      "needs_background": "light"
     },
     "output_type": "display_data"
    }
   ],
   "source": [
    "plt.plot(range(epochs),losses)\n",
    "plt.ylabel(\"MSE LOSS\")\n",
    "plt.xlabel(\"Epoch\")"
   ]
  },
  {
   "cell_type": "code",
   "execution_count": 64,
   "metadata": {},
   "outputs": [],
   "source": [
    "# en başta hocanın gösterdiği lineer grafiği çizdiriyoruz\n",
    "x=np.linspace(0.0,50.0,50)\n",
    "current_weight=model.lineer.weight.item()\n",
    "current_bias=model.lineer.bias.item()\n",
    "pred_y=current_weight*x+current_bias"
   ]
  },
  {
   "cell_type": "code",
   "execution_count": 66,
   "metadata": {},
   "outputs": [
    {
     "data": {
      "image/png": "[encoded data removed]",
      "text/plain": [
       "<Figure size 432x288 with 1 Axes>"
      ]
     },
     "metadata": {
      "needs_background": "light"
     },
     "output_type": "display_data"
    }
   ],
   "source": [
    "plt.scatter(X.numpy(),y.numpy())\n",
    "plt.plot(x,pred_y,'r');"
   ]
  },
  {
   "cell_type": "markdown",
   "metadata": {},
   "source": [
    "### PyTorch'da Veri Setleri ile İşlem Yapma"
   ]
  },
  {
   "cell_type": "code",
   "execution_count": 92,
   "metadata": {
    "scrolled": true
   },
   "outputs": [
    {
     "data": {
      "text/html": [
       "<div>\n",
       "<style scoped>\n",
       "    .dataframe tbody tr th:only-of-type {\n",
       "        vertical-align: middle;\n",
       "    }\n",
       "\n",
       "    .dataframe tbody tr th {\n",
       "        vertical-align: top;\n",
       "    }\n",
       "\n",
       "    .dataframe thead th {\n",
       "        text-align: right;\n",
       "    }\n",
       "</style>\n",
       "<table border=\"1\" class=\"dataframe\">\n",
       "  <thead>\n",
       "    <tr style=\"text-align: right;\">\n",
       "      <th></th>\n",
       "      <th>SepalLengthCm</th>\n",
       "      <th>SepalWidthCm</th>\n",
       "      <th>PetalLengthCm</th>\n",
       "      <th>PetalWidthCm</th>\n",
       "      <th>Species</th>\n",
       "    </tr>\n",
       "    <tr>\n",
       "      <th>Id</th>\n",
       "      <th></th>\n",
       "      <th></th>\n",
       "      <th></th>\n",
       "      <th></th>\n",
       "      <th></th>\n",
       "    </tr>\n",
       "  </thead>\n",
       "  <tbody>\n",
       "    <tr>\n",
       "      <th>1</th>\n",
       "      <td>5.1</td>\n",
       "      <td>3.5</td>\n",
       "      <td>1.4</td>\n",
       "      <td>0.2</td>\n",
       "      <td>Iris-setosa</td>\n",
       "    </tr>\n",
       "    <tr>\n",
       "      <th>2</th>\n",
       "      <td>4.9</td>\n",
       "      <td>3.0</td>\n",
       "      <td>1.4</td>\n",
       "      <td>0.2</td>\n",
       "      <td>Iris-setosa</td>\n",
       "    </tr>\n",
       "    <tr>\n",
       "      <th>3</th>\n",
       "      <td>4.7</td>\n",
       "      <td>3.2</td>\n",
       "      <td>1.3</td>\n",
       "      <td>0.2</td>\n",
       "      <td>Iris-setosa</td>\n",
       "    </tr>\n",
       "    <tr>\n",
       "      <th>4</th>\n",
       "      <td>4.6</td>\n",
       "      <td>3.1</td>\n",
       "      <td>1.5</td>\n",
       "      <td>0.2</td>\n",
       "      <td>Iris-setosa</td>\n",
       "    </tr>\n",
       "    <tr>\n",
       "      <th>5</th>\n",
       "      <td>5.0</td>\n",
       "      <td>3.6</td>\n",
       "      <td>1.4</td>\n",
       "      <td>0.2</td>\n",
       "      <td>Iris-setosa</td>\n",
       "    </tr>\n",
       "  </tbody>\n",
       "</table>\n",
       "</div>"
      ],
      "text/plain": [
       "    SepalLengthCm  SepalWidthCm  PetalLengthCm  PetalWidthCm      Species\n",
       "Id                                                                       \n",
       "1             5.1           3.5            1.4           0.2  Iris-setosa\n",
       "2             4.9           3.0            1.4           0.2  Iris-setosa\n",
       "3             4.7           3.2            1.3           0.2  Iris-setosa\n",
       "4             4.6           3.1            1.5           0.2  Iris-setosa\n",
       "5             5.0           3.6            1.4           0.2  Iris-setosa"
      ]
     },
     "execution_count": 92,
     "metadata": {},
     "output_type": "execute_result"
    }
   ],
   "source": [
    "import pandas as pd\n",
    "df=pd.read_csv(\"iris.csv\",sep=\",\",index_col=\"Id\")\n",
    "df.head()"
   ]
  },
  {
   "cell_type": "code",
   "execution_count": 93,
   "metadata": {},
   "outputs": [
    {
     "data": {
      "text/html": [
       "<div>\n",
       "<style scoped>\n",
       "    .dataframe tbody tr th:only-of-type {\n",
       "        vertical-align: middle;\n",
       "    }\n",
       "\n",
       "    .dataframe tbody tr th {\n",
       "        vertical-align: top;\n",
       "    }\n",
       "\n",
       "    .dataframe thead th {\n",
       "        text-align: right;\n",
       "    }\n",
       "</style>\n",
       "<table border=\"1\" class=\"dataframe\">\n",
       "  <thead>\n",
       "    <tr style=\"text-align: right;\">\n",
       "      <th></th>\n",
       "      <th>SepalLengthCm</th>\n",
       "      <th>SepalWidthCm</th>\n",
       "      <th>PetalLengthCm</th>\n",
       "      <th>PetalWidthCm</th>\n",
       "      <th>Species</th>\n",
       "    </tr>\n",
       "    <tr>\n",
       "      <th>Id</th>\n",
       "      <th></th>\n",
       "      <th></th>\n",
       "      <th></th>\n",
       "      <th></th>\n",
       "      <th></th>\n",
       "    </tr>\n",
       "  </thead>\n",
       "  <tbody>\n",
       "    <tr>\n",
       "      <th>1</th>\n",
       "      <td>5.1</td>\n",
       "      <td>3.5</td>\n",
       "      <td>1.4</td>\n",
       "      <td>0.2</td>\n",
       "      <td>1</td>\n",
       "    </tr>\n",
       "    <tr>\n",
       "      <th>2</th>\n",
       "      <td>4.9</td>\n",
       "      <td>3.0</td>\n",
       "      <td>1.4</td>\n",
       "      <td>0.2</td>\n",
       "      <td>1</td>\n",
       "    </tr>\n",
       "    <tr>\n",
       "      <th>3</th>\n",
       "      <td>4.7</td>\n",
       "      <td>3.2</td>\n",
       "      <td>1.3</td>\n",
       "      <td>0.2</td>\n",
       "      <td>1</td>\n",
       "    </tr>\n",
       "    <tr>\n",
       "      <th>4</th>\n",
       "      <td>4.6</td>\n",
       "      <td>3.1</td>\n",
       "      <td>1.5</td>\n",
       "      <td>0.2</td>\n",
       "      <td>1</td>\n",
       "    </tr>\n",
       "    <tr>\n",
       "      <th>5</th>\n",
       "      <td>5.0</td>\n",
       "      <td>3.6</td>\n",
       "      <td>1.4</td>\n",
       "      <td>0.2</td>\n",
       "      <td>1</td>\n",
       "    </tr>\n",
       "  </tbody>\n",
       "</table>\n",
       "</div>"
      ],
      "text/plain": [
       "    SepalLengthCm  SepalWidthCm  PetalLengthCm  PetalWidthCm  Species\n",
       "Id                                                                   \n",
       "1             5.1           3.5            1.4           0.2        1\n",
       "2             4.9           3.0            1.4           0.2        1\n",
       "3             4.7           3.2            1.3           0.2        1\n",
       "4             4.6           3.1            1.5           0.2        1\n",
       "5             5.0           3.6            1.4           0.2        1"
      ]
     },
     "execution_count": 93,
     "metadata": {},
     "output_type": "execute_result"
    }
   ],
   "source": [
    "# orijinal iris veri setinin son kolonunun adı taget değil ve gözlemler 0-1-2 değil.\n",
    "# bu nedenle hocada target ama aslında Species olan kolonun gözlemlerini 0-1-2 ye çevirdim.\n",
    "df[\"Species\"]=df[\"Species\"].replace([\"Iris-virginica\", \"Iris-setosa\", \"Iris-versicolor\"], [0,1,2])\n",
    "df.head()"
   ]
  },
  {
   "cell_type": "code",
   "execution_count": 79,
   "metadata": {},
   "outputs": [
    {
     "data": {
      "text/plain": [
       "(150, 5)"
      ]
     },
     "execution_count": 79,
     "metadata": {},
     "output_type": "execute_result"
    }
   ],
   "source": [
    "df.shape"
   ]
  },
  {
   "cell_type": "code",
   "execution_count": 101,
   "metadata": {
    "scrolled": false
   },
   "outputs": [
    {
     "data": {
      "image/png": "[encoded data removed]",
      "text/plain": [
       "<Figure size 720x504 with 4 Axes>"
      ]
     },
     "metadata": {
      "needs_background": "light"
     },
     "output_type": "display_data"
    }
   ],
   "source": [
    "fig, axes=plt.subplots(nrows=2, ncols=2, figsize=(10,7))\n",
    "fig.tight_layout()\n",
    "\n",
    "plots=[(0,1),(2,3),(0,2),(1,3)]\n",
    "colors=['blue','red','green']\n",
    "labels=[\"Iris Setosa\", \"Iris Virginica\", \"Iris Versicolor\"]\n",
    "\n",
    "for i, ax in enumerate(axes.flat):\n",
    "    for j in range(3):\n",
    "        x=df.columns[plots[i][0]]\n",
    "        y=df.columns[plots[i][1]]\n",
    "        ax.scatter(df[df['Species']==j][x], df[df['Species']==j][y], c=colors[j])\n",
    "        ax.set(xlabel=x, ylabel=y)\n",
    "        \n",
    "fig.legend(labels=labels, loc=3, bbox_to_anchor=(1.0,0.85))\n",
    "plt.show();"
   ]
  },
  {
   "cell_type": "code",
   "execution_count": 102,
   "metadata": {},
   "outputs": [],
   "source": [
    "from sklearn.model_selection import train_test_split"
   ]
  },
  {
   "cell_type": "code",
   "execution_count": 103,
   "metadata": {},
   "outputs": [
    {
     "data": {
      "text/plain": [
       "array([1, 1, 1, 1, 1, 1, 1, 1, 1, 1, 1, 1, 1, 1, 1, 1, 1, 1, 1, 1, 1, 1,\n",
       "       1, 1, 1, 1, 1, 1, 1, 1, 1, 1, 1, 1, 1, 1, 1, 1, 1, 1, 1, 1, 1, 1,\n",
       "       1, 1, 1, 1, 1, 1, 2, 2, 2, 2, 2, 2, 2, 2, 2, 2, 2, 2, 2, 2, 2, 2,\n",
       "       2, 2, 2, 2, 2, 2, 2, 2, 2, 2, 2, 2, 2, 2, 2, 2, 2, 2, 2, 2, 2, 2,\n",
       "       2, 2, 2, 2, 2, 2, 2, 2, 2, 2, 2, 2, 0, 0, 0, 0, 0, 0, 0, 0, 0, 0,\n",
       "       0, 0, 0, 0, 0, 0, 0, 0, 0, 0, 0, 0, 0, 0, 0, 0, 0, 0, 0, 0, 0, 0,\n",
       "       0, 0, 0, 0, 0, 0, 0, 0, 0, 0, 0, 0, 0, 0, 0, 0, 0, 0], dtype=int64)"
      ]
     },
     "execution_count": 103,
     "metadata": {},
     "output_type": "execute_result"
    }
   ],
   "source": [
    "features= df.drop(\"Species\",axis=1).values\n",
    "label=df[\"Species\"].values\n",
    "label"
   ]
  },
  {
   "cell_type": "code",
   "execution_count": 104,
   "metadata": {},
   "outputs": [],
   "source": [
    "X_train, X_test, y_train, y_test= train_test_split(features, label, test_size=0.2, random_state=41)"
   ]
  },
  {
   "cell_type": "code",
   "execution_count": 106,
   "metadata": {},
   "outputs": [
    {
     "data": {
      "text/plain": [
       "((120, 4), (30, 4))"
      ]
     },
     "execution_count": 106,
     "metadata": {},
     "output_type": "execute_result"
    }
   ],
   "source": [
    "X_train.shape, X_test.shape"
   ]
  },
  {
   "cell_type": "code",
   "execution_count": 108,
   "metadata": {},
   "outputs": [],
   "source": [
    "# tensorlerle işlem yapmak daha hızlı olduğu için array tipleri tensor tipine dönüştürüyoruz\n",
    "X_train=torch.FloatTensor(X_train)\n",
    "X_test=torch.FloatTensor(X_test)\n",
    "y_train=torch.FloatTensor(y_train).reshape(-1,1)\n",
    "y_test=torch.FloatTensor(y_test).reshape(-1,1)"
   ]
  },
  {
   "cell_type": "code",
   "execution_count": 111,
   "metadata": {},
   "outputs": [],
   "source": [
    "from torch.utils.data import TensorDataset, DataLoader "
   ]
  },
  {
   "cell_type": "code",
   "execution_count": 116,
   "metadata": {},
   "outputs": [],
   "source": [
    "data= df.drop(\"Species\",axis=1).values\n",
    "labels=df[\"Species\"].values"
   ]
  },
  {
   "cell_type": "code",
   "execution_count": 117,
   "metadata": {},
   "outputs": [],
   "source": [
    "iris= TensorDataset(torch.FloatTensor(data), torch.LongTensor(labels))"
   ]
  },
  {
   "cell_type": "code",
   "execution_count": 118,
   "metadata": {},
   "outputs": [
    {
     "data": {
      "text/plain": [
       "torch.utils.data.dataset.TensorDataset"
      ]
     },
     "execution_count": 118,
     "metadata": {},
     "output_type": "execute_result"
    }
   ],
   "source": [
    "type(iris)"
   ]
  },
  {
   "cell_type": "code",
   "execution_count": 119,
   "metadata": {},
   "outputs": [
    {
     "data": {
      "text/plain": [
       "150"
      ]
     },
     "execution_count": 119,
     "metadata": {},
     "output_type": "execute_result"
    }
   ],
   "source": [
    "len(iris)"
   ]
  },
  {
   "cell_type": "code",
   "execution_count": 120,
   "metadata": {},
   "outputs": [
    {
     "name": "stdout",
     "output_type": "stream",
     "text": [
      "(tensor([5.1000, 3.5000, 1.4000, 0.2000]), tensor(1))\n",
      "(tensor([4.9000, 3.0000, 1.4000, 0.2000]), tensor(1))\n",
      "(tensor([4.7000, 3.2000, 1.3000, 0.2000]), tensor(1))\n",
      "(tensor([4.6000, 3.1000, 1.5000, 0.2000]), tensor(1))\n",
      "(tensor([5.0000, 3.6000, 1.4000, 0.2000]), tensor(1))\n",
      "(tensor([5.4000, 3.9000, 1.7000, 0.4000]), tensor(1))\n",
      "(tensor([4.6000, 3.4000, 1.4000, 0.3000]), tensor(1))\n",
      "(tensor([5.0000, 3.4000, 1.5000, 0.2000]), tensor(1))\n",
      "(tensor([4.4000, 2.9000, 1.4000, 0.2000]), tensor(1))\n",
      "(tensor([4.9000, 3.1000, 1.5000, 0.1000]), tensor(1))\n",
      "(tensor([5.4000, 3.7000, 1.5000, 0.2000]), tensor(1))\n",
      "(tensor([4.8000, 3.4000, 1.6000, 0.2000]), tensor(1))\n",
      "(tensor([4.8000, 3.0000, 1.4000, 0.1000]), tensor(1))\n",
      "(tensor([4.3000, 3.0000, 1.1000, 0.1000]), tensor(1))\n",
      "(tensor([5.8000, 4.0000, 1.2000, 0.2000]), tensor(1))\n",
      "(tensor([5.7000, 4.4000, 1.5000, 0.4000]), tensor(1))\n",
      "(tensor([5.4000, 3.9000, 1.3000, 0.4000]), tensor(1))\n",
      "(tensor([5.1000, 3.5000, 1.4000, 0.3000]), tensor(1))\n",
      "(tensor([5.7000, 3.8000, 1.7000, 0.3000]), tensor(1))\n",
      "(tensor([5.1000, 3.8000, 1.5000, 0.3000]), tensor(1))\n",
      "(tensor([5.4000, 3.4000, 1.7000, 0.2000]), tensor(1))\n",
      "(tensor([5.1000, 3.7000, 1.5000, 0.4000]), tensor(1))\n",
      "(tensor([4.6000, 3.6000, 1.0000, 0.2000]), tensor(1))\n",
      "(tensor([5.1000, 3.3000, 1.7000, 0.5000]), tensor(1))\n",
      "(tensor([4.8000, 3.4000, 1.9000, 0.2000]), tensor(1))\n",
      "(tensor([5.0000, 3.0000, 1.6000, 0.2000]), tensor(1))\n",
      "(tensor([5.0000, 3.4000, 1.6000, 0.4000]), tensor(1))\n",
      "(tensor([5.2000, 3.5000, 1.5000, 0.2000]), tensor(1))\n",
      "(tensor([5.2000, 3.4000, 1.4000, 0.2000]), tensor(1))\n",
      "(tensor([4.7000, 3.2000, 1.6000, 0.2000]), tensor(1))\n",
      "(tensor([4.8000, 3.1000, 1.6000, 0.2000]), tensor(1))\n",
      "(tensor([5.4000, 3.4000, 1.5000, 0.4000]), tensor(1))\n",
      "(tensor([5.2000, 4.1000, 1.5000, 0.1000]), tensor(1))\n",
      "(tensor([5.5000, 4.2000, 1.4000, 0.2000]), tensor(1))\n",
      "(tensor([4.9000, 3.1000, 1.5000, 0.1000]), tensor(1))\n",
      "(tensor([5.0000, 3.2000, 1.2000, 0.2000]), tensor(1))\n",
      "(tensor([5.5000, 3.5000, 1.3000, 0.2000]), tensor(1))\n",
      "(tensor([4.9000, 3.1000, 1.5000, 0.1000]), tensor(1))\n",
      "(tensor([4.4000, 3.0000, 1.3000, 0.2000]), tensor(1))\n",
      "(tensor([5.1000, 3.4000, 1.5000, 0.2000]), tensor(1))\n",
      "(tensor([5.0000, 3.5000, 1.3000, 0.3000]), tensor(1))\n",
      "(tensor([4.5000, 2.3000, 1.3000, 0.3000]), tensor(1))\n",
      "(tensor([4.4000, 3.2000, 1.3000, 0.2000]), tensor(1))\n",
      "(tensor([5.0000, 3.5000, 1.6000, 0.6000]), tensor(1))\n",
      "(tensor([5.1000, 3.8000, 1.9000, 0.4000]), tensor(1))\n",
      "(tensor([4.8000, 3.0000, 1.4000, 0.3000]), tensor(1))\n",
      "(tensor([5.1000, 3.8000, 1.6000, 0.2000]), tensor(1))\n",
      "(tensor([4.6000, 3.2000, 1.4000, 0.2000]), tensor(1))\n",
      "(tensor([5.3000, 3.7000, 1.5000, 0.2000]), tensor(1))\n",
      "(tensor([5.0000, 3.3000, 1.4000, 0.2000]), tensor(1))\n",
      "(tensor([7.0000, 3.2000, 4.7000, 1.4000]), tensor(2))\n",
      "(tensor([6.4000, 3.2000, 4.5000, 1.5000]), tensor(2))\n",
      "(tensor([6.9000, 3.1000, 4.9000, 1.5000]), tensor(2))\n",
      "(tensor([5.5000, 2.3000, 4.0000, 1.3000]), tensor(2))\n",
      "(tensor([6.5000, 2.8000, 4.6000, 1.5000]), tensor(2))\n",
      "(tensor([5.7000, 2.8000, 4.5000, 1.3000]), tensor(2))\n",
      "(tensor([6.3000, 3.3000, 4.7000, 1.6000]), tensor(2))\n",
      "(tensor([4.9000, 2.4000, 3.3000, 1.0000]), tensor(2))\n",
      "(tensor([6.6000, 2.9000, 4.6000, 1.3000]), tensor(2))\n",
      "(tensor([5.2000, 2.7000, 3.9000, 1.4000]), tensor(2))\n",
      "(tensor([5.0000, 2.0000, 3.5000, 1.0000]), tensor(2))\n",
      "(tensor([5.9000, 3.0000, 4.2000, 1.5000]), tensor(2))\n",
      "(tensor([6.0000, 2.2000, 4.0000, 1.0000]), tensor(2))\n",
      "(tensor([6.1000, 2.9000, 4.7000, 1.4000]), tensor(2))\n",
      "(tensor([5.6000, 2.9000, 3.6000, 1.3000]), tensor(2))\n",
      "(tensor([6.7000, 3.1000, 4.4000, 1.4000]), tensor(2))\n",
      "(tensor([5.6000, 3.0000, 4.5000, 1.5000]), tensor(2))\n",
      "(tensor([5.8000, 2.7000, 4.1000, 1.0000]), tensor(2))\n",
      "(tensor([6.2000, 2.2000, 4.5000, 1.5000]), tensor(2))\n",
      "(tensor([5.6000, 2.5000, 3.9000, 1.1000]), tensor(2))\n",
      "(tensor([5.9000, 3.2000, 4.8000, 1.8000]), tensor(2))\n",
      "(tensor([6.1000, 2.8000, 4.0000, 1.3000]), tensor(2))\n",
      "(tensor([6.3000, 2.5000, 4.9000, 1.5000]), tensor(2))\n",
      "(tensor([6.1000, 2.8000, 4.7000, 1.2000]), tensor(2))\n",
      "(tensor([6.4000, 2.9000, 4.3000, 1.3000]), tensor(2))\n",
      "(tensor([6.6000, 3.0000, 4.4000, 1.4000]), tensor(2))\n",
      "(tensor([6.8000, 2.8000, 4.8000, 1.4000]), tensor(2))\n",
      "(tensor([6.7000, 3.0000, 5.0000, 1.7000]), tensor(2))\n",
      "(tensor([6.0000, 2.9000, 4.5000, 1.5000]), tensor(2))\n",
      "(tensor([5.7000, 2.6000, 3.5000, 1.0000]), tensor(2))\n",
      "(tensor([5.5000, 2.4000, 3.8000, 1.1000]), tensor(2))\n",
      "(tensor([5.5000, 2.4000, 3.7000, 1.0000]), tensor(2))\n",
      "(tensor([5.8000, 2.7000, 3.9000, 1.2000]), tensor(2))\n",
      "(tensor([6.0000, 2.7000, 5.1000, 1.6000]), tensor(2))\n",
      "(tensor([5.4000, 3.0000, 4.5000, 1.5000]), tensor(2))\n",
      "(tensor([6.0000, 3.4000, 4.5000, 1.6000]), tensor(2))\n",
      "(tensor([6.7000, 3.1000, 4.7000, 1.5000]), tensor(2))\n",
      "(tensor([6.3000, 2.3000, 4.4000, 1.3000]), tensor(2))\n",
      "(tensor([5.6000, 3.0000, 4.1000, 1.3000]), tensor(2))\n",
      "(tensor([5.5000, 2.5000, 4.0000, 1.3000]), tensor(2))\n",
      "(tensor([5.5000, 2.6000, 4.4000, 1.2000]), tensor(2))\n",
      "(tensor([6.1000, 3.0000, 4.6000, 1.4000]), tensor(2))\n",
      "(tensor([5.8000, 2.6000, 4.0000, 1.2000]), tensor(2))\n",
      "(tensor([5.0000, 2.3000, 3.3000, 1.0000]), tensor(2))\n",
      "(tensor([5.6000, 2.7000, 4.2000, 1.3000]), tensor(2))\n",
      "(tensor([5.7000, 3.0000, 4.2000, 1.2000]), tensor(2))\n",
      "(tensor([5.7000, 2.9000, 4.2000, 1.3000]), tensor(2))\n",
      "(tensor([6.2000, 2.9000, 4.3000, 1.3000]), tensor(2))\n",
      "(tensor([5.1000, 2.5000, 3.0000, 1.1000]), tensor(2))\n",
      "(tensor([5.7000, 2.8000, 4.1000, 1.3000]), tensor(2))\n",
      "(tensor([6.3000, 3.3000, 6.0000, 2.5000]), tensor(0))\n",
      "(tensor([5.8000, 2.7000, 5.1000, 1.9000]), tensor(0))\n",
      "(tensor([7.1000, 3.0000, 5.9000, 2.1000]), tensor(0))\n",
      "(tensor([6.3000, 2.9000, 5.6000, 1.8000]), tensor(0))\n",
      "(tensor([6.5000, 3.0000, 5.8000, 2.2000]), tensor(0))\n",
      "(tensor([7.6000, 3.0000, 6.6000, 2.1000]), tensor(0))\n",
      "(tensor([4.9000, 2.5000, 4.5000, 1.7000]), tensor(0))\n",
      "(tensor([7.3000, 2.9000, 6.3000, 1.8000]), tensor(0))\n",
      "(tensor([6.7000, 2.5000, 5.8000, 1.8000]), tensor(0))\n",
      "(tensor([7.2000, 3.6000, 6.1000, 2.5000]), tensor(0))\n",
      "(tensor([6.5000, 3.2000, 5.1000, 2.0000]), tensor(0))\n",
      "(tensor([6.4000, 2.7000, 5.3000, 1.9000]), tensor(0))\n",
      "(tensor([6.8000, 3.0000, 5.5000, 2.1000]), tensor(0))\n",
      "(tensor([5.7000, 2.5000, 5.0000, 2.0000]), tensor(0))\n",
      "(tensor([5.8000, 2.8000, 5.1000, 2.4000]), tensor(0))\n",
      "(tensor([6.4000, 3.2000, 5.3000, 2.3000]), tensor(0))\n",
      "(tensor([6.5000, 3.0000, 5.5000, 1.8000]), tensor(0))\n",
      "(tensor([7.7000, 3.8000, 6.7000, 2.2000]), tensor(0))\n",
      "(tensor([7.7000, 2.6000, 6.9000, 2.3000]), tensor(0))\n",
      "(tensor([6.0000, 2.2000, 5.0000, 1.5000]), tensor(0))\n",
      "(tensor([6.9000, 3.2000, 5.7000, 2.3000]), tensor(0))\n",
      "(tensor([5.6000, 2.8000, 4.9000, 2.0000]), tensor(0))\n",
      "(tensor([7.7000, 2.8000, 6.7000, 2.0000]), tensor(0))\n",
      "(tensor([6.3000, 2.7000, 4.9000, 1.8000]), tensor(0))\n",
      "(tensor([6.7000, 3.3000, 5.7000, 2.1000]), tensor(0))\n",
      "(tensor([7.2000, 3.2000, 6.0000, 1.8000]), tensor(0))\n",
      "(tensor([6.2000, 2.8000, 4.8000, 1.8000]), tensor(0))\n",
      "(tensor([6.1000, 3.0000, 4.9000, 1.8000]), tensor(0))\n",
      "(tensor([6.4000, 2.8000, 5.6000, 2.1000]), tensor(0))\n",
      "(tensor([7.2000, 3.0000, 5.8000, 1.6000]), tensor(0))\n",
      "(tensor([7.4000, 2.8000, 6.1000, 1.9000]), tensor(0))\n",
      "(tensor([7.9000, 3.8000, 6.4000, 2.0000]), tensor(0))\n",
      "(tensor([6.4000, 2.8000, 5.6000, 2.2000]), tensor(0))\n",
      "(tensor([6.3000, 2.8000, 5.1000, 1.5000]), tensor(0))\n",
      "(tensor([6.1000, 2.6000, 5.6000, 1.4000]), tensor(0))\n",
      "(tensor([7.7000, 3.0000, 6.1000, 2.3000]), tensor(0))\n",
      "(tensor([6.3000, 3.4000, 5.6000, 2.4000]), tensor(0))\n",
      "(tensor([6.4000, 3.1000, 5.5000, 1.8000]), tensor(0))\n",
      "(tensor([6.0000, 3.0000, 4.8000, 1.8000]), tensor(0))\n",
      "(tensor([6.9000, 3.1000, 5.4000, 2.1000]), tensor(0))\n",
      "(tensor([6.7000, 3.1000, 5.6000, 2.4000]), tensor(0))\n",
      "(tensor([6.9000, 3.1000, 5.1000, 2.3000]), tensor(0))\n",
      "(tensor([5.8000, 2.7000, 5.1000, 1.9000]), tensor(0))\n",
      "(tensor([6.8000, 3.2000, 5.9000, 2.3000]), tensor(0))\n",
      "(tensor([6.7000, 3.3000, 5.7000, 2.5000]), tensor(0))\n",
      "(tensor([6.7000, 3.0000, 5.2000, 2.3000]), tensor(0))\n",
      "(tensor([6.3000, 2.5000, 5.0000, 1.9000]), tensor(0))\n",
      "(tensor([6.5000, 3.0000, 5.2000, 2.0000]), tensor(0))\n",
      "(tensor([6.2000, 3.4000, 5.4000, 2.3000]), tensor(0))\n",
      "(tensor([5.9000, 3.0000, 5.1000, 1.8000]), tensor(0))\n"
     ]
    }
   ],
   "source": [
    "for i in iris:\n",
    "    print(i)"
   ]
  },
  {
   "cell_type": "code",
   "execution_count": 124,
   "metadata": {},
   "outputs": [],
   "source": [
    "iris_loader=DataLoader(iris, batch_size=30, shuffle=True)"
   ]
  },
  {
   "cell_type": "code",
   "execution_count": 125,
   "metadata": {},
   "outputs": [
    {
     "name": "stdout",
     "output_type": "stream",
     "text": [
      "0 [tensor([[6.1000, 3.0000, 4.9000, 1.8000],\n",
      "        [5.0000, 3.5000, 1.6000, 0.6000],\n",
      "        [5.7000, 2.6000, 3.5000, 1.0000],\n",
      "        [4.6000, 3.1000, 1.5000, 0.2000],\n",
      "        [5.0000, 3.3000, 1.4000, 0.2000],\n",
      "        [6.3000, 3.4000, 5.6000, 2.4000],\n",
      "        [5.8000, 4.0000, 1.2000, 0.2000],\n",
      "        [6.4000, 2.8000, 5.6000, 2.1000],\n",
      "        [6.3000, 2.7000, 4.9000, 1.8000],\n",
      "        [6.2000, 2.9000, 4.3000, 1.3000],\n",
      "        [7.7000, 2.6000, 6.9000, 2.3000],\n",
      "        [6.0000, 2.2000, 4.0000, 1.0000],\n",
      "        [6.7000, 3.1000, 4.7000, 1.5000],\n",
      "        [5.4000, 3.4000, 1.7000, 0.2000],\n",
      "        [4.9000, 3.0000, 1.4000, 0.2000],\n",
      "        [5.9000, 3.2000, 4.8000, 1.8000],\n",
      "        [5.8000, 2.8000, 5.1000, 2.4000],\n",
      "        [7.2000, 3.0000, 5.8000, 1.6000],\n",
      "        [4.5000, 2.3000, 1.3000, 0.3000],\n",
      "        [6.1000, 3.0000, 4.6000, 1.4000],\n",
      "        [5.0000, 3.6000, 1.4000, 0.2000],\n",
      "        [4.4000, 3.0000, 1.3000, 0.2000],\n",
      "        [6.3000, 3.3000, 4.7000, 1.6000],\n",
      "        [5.5000, 2.5000, 4.0000, 1.3000],\n",
      "        [5.8000, 2.7000, 3.9000, 1.2000],\n",
      "        [4.4000, 2.9000, 1.4000, 0.2000],\n",
      "        [5.8000, 2.6000, 4.0000, 1.2000],\n",
      "        [6.0000, 2.9000, 4.5000, 1.5000],\n",
      "        [6.4000, 2.8000, 5.6000, 2.2000],\n",
      "        [6.5000, 3.2000, 5.1000, 2.0000]]), tensor([0, 1, 2, 1, 1, 0, 1, 0, 0, 2, 0, 2, 2, 1, 1, 2, 0, 0, 1, 2, 1, 1, 2, 2,\n",
      "        2, 1, 2, 2, 0, 0])]\n",
      "1 [tensor([[4.9000, 2.5000, 4.5000, 1.7000],\n",
      "        [5.0000, 3.0000, 1.6000, 0.2000],\n",
      "        [6.8000, 3.0000, 5.5000, 2.1000],\n",
      "        [6.3000, 2.9000, 5.6000, 1.8000],\n",
      "        [5.7000, 2.8000, 4.5000, 1.3000],\n",
      "        [5.2000, 4.1000, 1.5000, 0.1000],\n",
      "        [6.5000, 3.0000, 5.5000, 1.8000],\n",
      "        [4.6000, 3.4000, 1.4000, 0.3000],\n",
      "        [6.2000, 2.2000, 4.5000, 1.5000],\n",
      "        [6.8000, 2.8000, 4.8000, 1.4000],\n",
      "        [5.4000, 3.4000, 1.5000, 0.4000],\n",
      "        [6.1000, 2.9000, 4.7000, 1.4000],\n",
      "        [5.9000, 3.0000, 5.1000, 1.8000],\n",
      "        [4.6000, 3.6000, 1.0000, 0.2000],\n",
      "        [5.0000, 3.2000, 1.2000, 0.2000],\n",
      "        [4.8000, 3.1000, 1.6000, 0.2000],\n",
      "        [6.7000, 3.0000, 5.0000, 1.7000],\n",
      "        [5.2000, 2.7000, 3.9000, 1.4000],\n",
      "        [5.0000, 3.4000, 1.6000, 0.4000],\n",
      "        [6.3000, 3.3000, 6.0000, 2.5000],\n",
      "        [7.7000, 2.8000, 6.7000, 2.0000],\n",
      "        [6.2000, 2.8000, 4.8000, 1.8000],\n",
      "        [6.0000, 2.2000, 5.0000, 1.5000],\n",
      "        [7.0000, 3.2000, 4.7000, 1.4000],\n",
      "        [5.5000, 2.3000, 4.0000, 1.3000],\n",
      "        [5.6000, 2.9000, 3.6000, 1.3000],\n",
      "        [6.7000, 3.1000, 5.6000, 2.4000],\n",
      "        [6.3000, 2.3000, 4.4000, 1.3000],\n",
      "        [6.2000, 3.4000, 5.4000, 2.3000],\n",
      "        [6.5000, 2.8000, 4.6000, 1.5000]]), tensor([0, 1, 0, 0, 2, 1, 0, 1, 2, 2, 1, 2, 0, 1, 1, 1, 2, 2, 1, 0, 0, 0, 0, 2,\n",
      "        2, 2, 0, 2, 0, 2])]\n",
      "2 [tensor([[5.5000, 2.6000, 4.4000, 1.2000],\n",
      "        [5.1000, 3.8000, 1.6000, 0.2000],\n",
      "        [4.8000, 3.0000, 1.4000, 0.3000],\n",
      "        [6.0000, 2.7000, 5.1000, 1.6000],\n",
      "        [5.2000, 3.4000, 1.4000, 0.2000],\n",
      "        [5.1000, 3.7000, 1.5000, 0.4000],\n",
      "        [6.6000, 2.9000, 4.6000, 1.3000],\n",
      "        [4.3000, 3.0000, 1.1000, 0.1000],\n",
      "        [4.9000, 2.4000, 3.3000, 1.0000],\n",
      "        [7.3000, 2.9000, 6.3000, 1.8000],\n",
      "        [6.4000, 2.7000, 5.3000, 1.9000],\n",
      "        [4.9000, 3.1000, 1.5000, 0.1000],\n",
      "        [7.9000, 3.8000, 6.4000, 2.0000],\n",
      "        [5.0000, 2.0000, 3.5000, 1.0000],\n",
      "        [5.6000, 2.7000, 4.2000, 1.3000],\n",
      "        [6.6000, 3.0000, 4.4000, 1.4000],\n",
      "        [5.7000, 2.5000, 5.0000, 2.0000],\n",
      "        [5.1000, 2.5000, 3.0000, 1.1000],\n",
      "        [5.1000, 3.5000, 1.4000, 0.3000],\n",
      "        [7.4000, 2.8000, 6.1000, 1.9000],\n",
      "        [7.2000, 3.2000, 6.0000, 1.8000],\n",
      "        [4.7000, 3.2000, 1.3000, 0.2000],\n",
      "        [5.7000, 2.8000, 4.1000, 1.3000],\n",
      "        [4.7000, 3.2000, 1.6000, 0.2000],\n",
      "        [7.6000, 3.0000, 6.6000, 2.1000],\n",
      "        [5.1000, 3.8000, 1.5000, 0.3000],\n",
      "        [4.9000, 3.1000, 1.5000, 0.1000],\n",
      "        [6.9000, 3.1000, 5.1000, 2.3000],\n",
      "        [5.5000, 2.4000, 3.7000, 1.0000],\n",
      "        [5.6000, 3.0000, 4.1000, 1.3000]]), tensor([2, 1, 1, 2, 1, 1, 2, 1, 2, 0, 0, 1, 0, 2, 2, 2, 0, 2, 1, 0, 0, 1, 2, 1,\n",
      "        0, 1, 1, 0, 2, 2])]\n",
      "3 [tensor([[7.7000, 3.0000, 6.1000, 2.3000],\n",
      "        [6.7000, 3.3000, 5.7000, 2.5000],\n",
      "        [6.1000, 2.8000, 4.0000, 1.3000],\n",
      "        [6.1000, 2.6000, 5.6000, 1.4000],\n",
      "        [5.7000, 2.9000, 4.2000, 1.3000],\n",
      "        [5.9000, 3.0000, 4.2000, 1.5000],\n",
      "        [6.0000, 3.4000, 4.5000, 1.6000],\n",
      "        [6.7000, 3.0000, 5.2000, 2.3000],\n",
      "        [4.6000, 3.2000, 1.4000, 0.2000],\n",
      "        [6.9000, 3.1000, 5.4000, 2.1000],\n",
      "        [6.0000, 3.0000, 4.8000, 1.8000],\n",
      "        [4.9000, 3.1000, 1.5000, 0.1000],\n",
      "        [5.6000, 2.5000, 3.9000, 1.1000],\n",
      "        [5.5000, 3.5000, 1.3000, 0.2000],\n",
      "        [6.7000, 3.3000, 5.7000, 2.1000],\n",
      "        [4.8000, 3.0000, 1.4000, 0.1000],\n",
      "        [6.1000, 2.8000, 4.7000, 1.2000],\n",
      "        [5.5000, 4.2000, 1.4000, 0.2000],\n",
      "        [6.5000, 3.0000, 5.8000, 2.2000],\n",
      "        [4.8000, 3.4000, 1.9000, 0.2000],\n",
      "        [5.7000, 4.4000, 1.5000, 0.4000],\n",
      "        [6.8000, 3.2000, 5.9000, 2.3000],\n",
      "        [6.4000, 3.2000, 5.3000, 2.3000],\n",
      "        [4.8000, 3.4000, 1.6000, 0.2000],\n",
      "        [6.4000, 2.9000, 4.3000, 1.3000],\n",
      "        [5.1000, 3.5000, 1.4000, 0.2000],\n",
      "        [5.1000, 3.8000, 1.9000, 0.4000],\n",
      "        [6.7000, 3.1000, 4.4000, 1.4000],\n",
      "        [7.7000, 3.8000, 6.7000, 2.2000],\n",
      "        [6.9000, 3.2000, 5.7000, 2.3000]]), tensor([0, 0, 2, 0, 2, 2, 2, 0, 1, 0, 0, 1, 2, 1, 0, 1, 2, 1, 0, 1, 1, 0, 0, 1,\n",
      "        2, 1, 1, 2, 0, 0])]\n",
      "4 [tensor([[5.1000, 3.4000, 1.5000, 0.2000],\n",
      "        [6.3000, 2.8000, 5.1000, 1.5000],\n",
      "        [6.3000, 2.5000, 4.9000, 1.5000],\n",
      "        [5.2000, 3.5000, 1.5000, 0.2000],\n",
      "        [7.2000, 3.6000, 6.1000, 2.5000],\n",
      "        [5.8000, 2.7000, 5.1000, 1.9000],\n",
      "        [6.4000, 3.1000, 5.5000, 1.8000],\n",
      "        [5.6000, 2.8000, 4.9000, 2.0000],\n",
      "        [5.5000, 2.4000, 3.8000, 1.1000],\n",
      "        [6.9000, 3.1000, 4.9000, 1.5000],\n",
      "        [5.3000, 3.7000, 1.5000, 0.2000],\n",
      "        [6.7000, 2.5000, 5.8000, 1.8000],\n",
      "        [5.0000, 3.4000, 1.5000, 0.2000],\n",
      "        [6.4000, 3.2000, 4.5000, 1.5000],\n",
      "        [5.4000, 3.7000, 1.5000, 0.2000],\n",
      "        [5.8000, 2.7000, 5.1000, 1.9000],\n",
      "        [5.4000, 3.0000, 4.5000, 1.5000],\n",
      "        [5.1000, 3.3000, 1.7000, 0.5000],\n",
      "        [6.5000, 3.0000, 5.2000, 2.0000],\n",
      "        [4.4000, 3.2000, 1.3000, 0.2000],\n",
      "        [5.0000, 3.5000, 1.3000, 0.3000],\n",
      "        [5.7000, 3.8000, 1.7000, 0.3000],\n",
      "        [5.6000, 3.0000, 4.5000, 1.5000],\n",
      "        [5.4000, 3.9000, 1.7000, 0.4000],\n",
      "        [5.0000, 2.3000, 3.3000, 1.0000],\n",
      "        [6.3000, 2.5000, 5.0000, 1.9000],\n",
      "        [5.4000, 3.9000, 1.3000, 0.4000],\n",
      "        [5.7000, 3.0000, 4.2000, 1.2000],\n",
      "        [5.8000, 2.7000, 4.1000, 1.0000],\n",
      "        [7.1000, 3.0000, 5.9000, 2.1000]]), tensor([1, 0, 2, 1, 0, 0, 0, 0, 2, 2, 1, 0, 1, 2, 1, 0, 2, 1, 0, 1, 1, 1, 2, 1,\n",
      "        2, 0, 1, 2, 2, 0])]\n"
     ]
    }
   ],
   "source": [
    "for i_batch,sample_batch in enumerate(iris_loader):\n",
    "    print(i_batch,sample_batch)"
   ]
  },
  {
   "cell_type": "markdown",
   "metadata": {},
   "source": [
    "# Proje -1 Iris Veri Seti İçin Derin Öğrenme Modeli Oluşturma"
   ]
  },
  {
   "cell_type": "code",
   "execution_count": 58,
   "metadata": {},
   "outputs": [],
   "source": [
    "import torch\n",
    "import torch.nn as nn\n",
    "import torch.nn.functional as F\n",
    "import numpy as np\n",
    "import pandas as pd\n",
    "import matplotlib.pyplot as plt\n",
    "%matplotlib inline"
   ]
  },
  {
   "cell_type": "code",
   "execution_count": 59,
   "metadata": {},
   "outputs": [
    {
     "data": {
      "text/html": [
       "<div>\n",
       "<style scoped>\n",
       "    .dataframe tbody tr th:only-of-type {\n",
       "        vertical-align: middle;\n",
       "    }\n",
       "\n",
       "    .dataframe tbody tr th {\n",
       "        vertical-align: top;\n",
       "    }\n",
       "\n",
       "    .dataframe thead th {\n",
       "        text-align: right;\n",
       "    }\n",
       "</style>\n",
       "<table border=\"1\" class=\"dataframe\">\n",
       "  <thead>\n",
       "    <tr style=\"text-align: right;\">\n",
       "      <th></th>\n",
       "      <th>SepalLengthCm</th>\n",
       "      <th>SepalWidthCm</th>\n",
       "      <th>PetalLengthCm</th>\n",
       "      <th>PetalWidthCm</th>\n",
       "      <th>Species</th>\n",
       "    </tr>\n",
       "    <tr>\n",
       "      <th>Id</th>\n",
       "      <th></th>\n",
       "      <th></th>\n",
       "      <th></th>\n",
       "      <th></th>\n",
       "      <th></th>\n",
       "    </tr>\n",
       "  </thead>\n",
       "  <tbody>\n",
       "    <tr>\n",
       "      <th>1</th>\n",
       "      <td>5.1</td>\n",
       "      <td>3.5</td>\n",
       "      <td>1.4</td>\n",
       "      <td>0.2</td>\n",
       "      <td>1</td>\n",
       "    </tr>\n",
       "    <tr>\n",
       "      <th>2</th>\n",
       "      <td>4.9</td>\n",
       "      <td>3.0</td>\n",
       "      <td>1.4</td>\n",
       "      <td>0.2</td>\n",
       "      <td>1</td>\n",
       "    </tr>\n",
       "    <tr>\n",
       "      <th>3</th>\n",
       "      <td>4.7</td>\n",
       "      <td>3.2</td>\n",
       "      <td>1.3</td>\n",
       "      <td>0.2</td>\n",
       "      <td>1</td>\n",
       "    </tr>\n",
       "    <tr>\n",
       "      <th>4</th>\n",
       "      <td>4.6</td>\n",
       "      <td>3.1</td>\n",
       "      <td>1.5</td>\n",
       "      <td>0.2</td>\n",
       "      <td>1</td>\n",
       "    </tr>\n",
       "    <tr>\n",
       "      <th>5</th>\n",
       "      <td>5.0</td>\n",
       "      <td>3.6</td>\n",
       "      <td>1.4</td>\n",
       "      <td>0.2</td>\n",
       "      <td>1</td>\n",
       "    </tr>\n",
       "  </tbody>\n",
       "</table>\n",
       "</div>"
      ],
      "text/plain": [
       "    SepalLengthCm  SepalWidthCm  PetalLengthCm  PetalWidthCm  Species\n",
       "Id                                                                   \n",
       "1             5.1           3.5            1.4           0.2        1\n",
       "2             4.9           3.0            1.4           0.2        1\n",
       "3             4.7           3.2            1.3           0.2        1\n",
       "4             4.6           3.1            1.5           0.2        1\n",
       "5             5.0           3.6            1.4           0.2        1"
      ]
     },
     "execution_count": 59,
     "metadata": {},
     "output_type": "execute_result"
    }
   ],
   "source": [
    "df=pd.read_csv(\"iris.csv\",sep=\",\",index_col=\"Id\")\n",
    "df[\"Species\"]=df[\"Species\"].replace([\"Iris-virginica\", \"Iris-setosa\", \"Iris-versicolor\"], [0,1,2])\n",
    "df.head()"
   ]
  },
  {
   "cell_type": "code",
   "execution_count": 60,
   "metadata": {},
   "outputs": [
    {
     "data": {
      "text/plain": [
       "Index(['SepalLengthCm', 'SepalWidthCm', 'PetalLengthCm', 'PetalWidthCm',\n",
       "       'Species'],\n",
       "      dtype='object')"
      ]
     },
     "execution_count": 60,
     "metadata": {},
     "output_type": "execute_result"
    }
   ],
   "source": [
    "df.columns"
   ]
  },
  {
   "cell_type": "code",
   "execution_count": 61,
   "metadata": {},
   "outputs": [
    {
     "data": {
      "text/plain": [
       "2    50\n",
       "1    50\n",
       "0    50\n",
       "Name: Species, dtype: int64"
      ]
     },
     "execution_count": 61,
     "metadata": {},
     "output_type": "execute_result"
    }
   ],
   "source": [
    "df.Species.value_counts()"
   ]
  },
  {
   "cell_type": "code",
   "execution_count": 62,
   "metadata": {},
   "outputs": [],
   "source": [
    "class Model(nn.Module):\n",
    "    def __init__(self, in_features=4, h1=8, h2=9, out_features=3):\n",
    "        super().__init__()\n",
    "        self.fc1=nn.Linear(in_features, h1)\n",
    "        self.fc2=nn.Linear(h1, h2)\n",
    "        self.out=nn.Linear(h2, out_features)\n",
    "        \n",
    "    def forward(self, x):\n",
    "        x=F.relu(self.fc1(x))\n",
    "        x=F.relu(self.fc2(x))\n",
    "        x=self.out(x)\n",
    "        return x\n",
    "    "
   ]
  },
  {
   "cell_type": "code",
   "execution_count": 63,
   "metadata": {},
   "outputs": [],
   "source": [
    "torch.manual_seed(42)\n",
    "model=Model()"
   ]
  },
  {
   "cell_type": "code",
   "execution_count": 64,
   "metadata": {},
   "outputs": [
    {
     "data": {
      "image/png": "[encoded data removed]",
      "text/plain": [
       "<Figure size 720x504 with 4 Axes>"
      ]
     },
     "metadata": {
      "needs_background": "light"
     },
     "output_type": "display_data"
    }
   ],
   "source": [
    "fig, axes=plt.subplots(nrows=2, ncols=2, figsize=(10,7))\n",
    "fig.tight_layout()\n",
    "\n",
    "plots=[(0,1),(2,3),(0,2),(1,3)]\n",
    "colors=['blue','red','green']\n",
    "labels=[\"Iris Setosa\", \"Iris Virginica\", \"Iris Versicolor\"]\n",
    "\n",
    "for i, ax in enumerate(axes.flat):\n",
    "    for j in range(3):\n",
    "        x=df.columns[plots[i][0]]\n",
    "        y=df.columns[plots[i][1]]\n",
    "        ax.scatter(df[df['Species']==j][x], df[df['Species']==j][y], c=colors[j])\n",
    "        ax.set(xlabel=x, ylabel=y)\n",
    "        \n",
    "fig.legend(labels=labels, loc=3, bbox_to_anchor=(1.0,0.85))\n",
    "plt.show();"
   ]
  },
  {
   "cell_type": "code",
   "execution_count": 65,
   "metadata": {},
   "outputs": [],
   "source": [
    "X=df.drop('Species', axis=1).values   # values ile numpy array tipine dönüştürdük\n",
    "y=df.Species.values"
   ]
  },
  {
   "cell_type": "code",
   "execution_count": 66,
   "metadata": {},
   "outputs": [],
   "source": [
    "from sklearn.model_selection import train_test_split"
   ]
  },
  {
   "cell_type": "code",
   "execution_count": 67,
   "metadata": {},
   "outputs": [],
   "source": [
    "X_train,X_test, y_train, y_test= train_test_split(X, y, test_size=0.2, random_state=42)"
   ]
  },
  {
   "cell_type": "code",
   "execution_count": 68,
   "metadata": {},
   "outputs": [],
   "source": [
    "X_train=torch.FloatTensor(X_train)\n",
    "X_test=torch.FloatTensor(X_test)\n",
    "y_train=torch.LongTensor(y_train)\n",
    "y_test=torch.LongTensor(y_test)"
   ]
  },
  {
   "cell_type": "code",
   "execution_count": 69,
   "metadata": {},
   "outputs": [],
   "source": [
    "criterion=nn.CrossEntropyLoss() # CrossEntropyLoss kullanacaksak y kısmına one hot encoding yapmaya gerek kalmaz\n",
    "optimizer=torch.optim.Adam(model.parameters(), lr=0.01)"
   ]
  },
  {
   "cell_type": "code",
   "execution_count": 70,
   "metadata": {},
   "outputs": [
    {
     "data": {
      "text/plain": [
       "<bound method Module.parameters of Model(\n",
       "  (fc1): Linear(in_features=4, out_features=8, bias=True)\n",
       "  (fc2): Linear(in_features=8, out_features=9, bias=True)\n",
       "  (out): Linear(in_features=9, out_features=3, bias=True)\n",
       ")>"
      ]
     },
     "execution_count": 70,
     "metadata": {},
     "output_type": "execute_result"
    }
   ],
   "source": [
    "model.parameters"
   ]
  },
  {
   "cell_type": "code",
   "execution_count": 71,
   "metadata": {},
   "outputs": [
    {
     "name": "stdout",
     "output_type": "stream",
     "text": [
      "Epoch 0 and loss is: 1.226377010345459\n",
      "Epoch 10 and loss is: 1.0870671272277832\n",
      "Epoch 20 and loss is: 0.9972278475761414\n",
      "Epoch 30 and loss is: 0.8090299963951111\n",
      "Epoch 40 and loss is: 0.5732204914093018\n",
      "Epoch 50 and loss is: 0.4090171158313751\n",
      "Epoch 60 and loss is: 0.2863522469997406\n",
      "Epoch 70 and loss is: 0.1735578179359436\n",
      "Epoch 80 and loss is: 0.10957334190607071\n",
      "Epoch 90 and loss is: 0.08008609712123871\n"
     ]
    }
   ],
   "source": [
    "epochs=100\n",
    "losses=[]\n",
    "for i in range(epochs):\n",
    "    y_pred=model.forward(X_train)\n",
    "    loss=criterion(y_pred, y_train)\n",
    "    losses.append(loss)\n",
    "    if i%10==0:\n",
    "        print(f'Epoch {i} and loss is: {loss}')\n",
    "        \n",
    "    optimizer.zero_grad()\n",
    "    loss.backward()\n",
    "    optimizer.step()"
   ]
  },
  {
   "cell_type": "code",
   "execution_count": 72,
   "metadata": {
    "scrolled": true
   },
   "outputs": [
    {
     "data": {
      "text/plain": [
       "Text(0.5, 0, 'Epoch')"
      ]
     },
     "execution_count": 72,
     "metadata": {},
     "output_type": "execute_result"
    },
    {
     "data": {
      "image/png": "[encoded data removed]",
      "text/plain": [
       "<Figure size 432x288 with 1 Axes>"
      ]
     },
     "metadata": {
      "needs_background": "light"
     },
     "output_type": "display_data"
    }
   ],
   "source": [
    "plt.plot(range(epochs),losses)\n",
    "plt.ylabel(\"LOSS\")\n",
    "plt.xlabel(\"Epoch\")"
   ]
  },
  {
   "cell_type": "code",
   "execution_count": null,
   "metadata": {},
   "outputs": [],
   "source": [
    "# X test için evaluate ediyoruz\n"
   ]
  },
  {
   "cell_type": "code",
   "execution_count": 73,
   "metadata": {},
   "outputs": [
    {
     "data": {
      "text/plain": [
       "tensor(0.0689)"
      ]
     },
     "execution_count": 73,
     "metadata": {},
     "output_type": "execute_result"
    }
   ],
   "source": [
    "with torch.no_grad():\n",
    "    y_eval=model.forward(X_test)\n",
    "    loss=criterion(y_eval, y_test)\n",
    "\n",
    "loss"
   ]
  },
  {
   "cell_type": "code",
   "execution_count": 77,
   "metadata": {},
   "outputs": [
    {
     "name": "stdout",
     "output_type": "stream",
     "text": [
      "1. tensor([-1.1957, -4.1257,  2.5313])   2\n",
      "2. tensor([-12.1892,   9.3829,   4.1394])   1\n",
      "3. tensor([ 10.7904, -18.3730,  -2.0097])   0\n",
      "4. tensor([-0.8017, -4.5562,  2.2497])   2\n",
      "5. tensor([-1.0428, -4.7169,  2.6654])   2\n",
      "6. tensor([-11.2863,   8.5646,   3.8962])   1\n",
      "7. tensor([-3.9596, -0.7067,  3.1101])   2\n",
      "8. tensor([ 3.0993, -9.5268,  0.7735])   0\n",
      "9. tensor([ 1.3423, -6.8326,  1.4913])   2\n",
      "10. tensor([-3.2921, -1.5862,  3.0542])   2\n",
      "11. tensor([ 2.0293, -8.1175,  1.1387])   0\n",
      "12. tensor([-10.6964,   8.3505,   3.5927])   1\n",
      "13. tensor([-12.2464,   9.5906,   4.0845])   1\n",
      "14. tensor([-10.8353,   8.4546,   3.6399])   1\n",
      "15. tensor([-11.9078,   9.3197,   3.9771])   1\n",
      "16. tensor([-1.4530, -4.1404,  2.5731])   2\n",
      "17. tensor([  6.4874, -13.0162,  -0.7000])   0\n",
      "18. tensor([-2.9005, -1.8698,  2.9165])   2\n",
      "19. tensor([-0.8686, -4.2623,  2.2289])   2\n",
      "20. tensor([  6.5568, -12.9721,  -0.7546])   0\n",
      "21. tensor([-10.4299,   8.0211,   3.5605])   1\n",
      "22. tensor([ 1.6776, -7.4177,  1.2012])   0\n",
      "23. tensor([-10.6995,   8.0763,   3.7186])   1\n",
      "24. tensor([  6.0944, -12.4522,  -0.5410])   0\n",
      "25. tensor([ 2.7984, -9.9758,  1.3034])   0\n",
      "26. tensor([  4.1929, -10.5927,   0.2667])   0\n",
      "27. tensor([  6.0729, -12.4891,  -0.3284])   0\n",
      "28. tensor([  6.1411, -12.8762,  -0.4901])   0\n",
      "29. tensor([-10.3186,   7.8775,   3.5499])   1\n",
      "30. tensor([-10.3123,   7.8466,   3.5595])   1\n",
      "Doğru sayısı: 30\n"
     ]
    }
   ],
   "source": [
    "correct=0\n",
    "with torch.no_grad():\n",
    "    for i, data in enumerate(X_test):\n",
    "        y_val=model.forward(data)\n",
    "        print(f'{i+1}. {str(y_val)}   {y_test[i]}')\n",
    "        \n",
    "        if y_val.argmax().item()==y_test[i]:\n",
    "            correct+=1\n",
    "            \n",
    "print(f'Doğru sayısı: {correct}')"
   ]
  },
  {
   "cell_type": "code",
   "execution_count": 78,
   "metadata": {},
   "outputs": [],
   "source": [
    "torch.save(model.state_dict(), \"benim-iris-modelim.pt\")"
   ]
  },
  {
   "cell_type": "code",
   "execution_count": 80,
   "metadata": {},
   "outputs": [
    {
     "data": {
      "text/plain": [
       "<All keys matched successfully>"
      ]
     },
     "execution_count": 80,
     "metadata": {},
     "output_type": "execute_result"
    }
   ],
   "source": [
    "yeni_model=Model()\n",
    "yeni_model.load_state_dict(torch.load(\"benim-iris-modelim.pt\"))"
   ]
  },
  {
   "cell_type": "code",
   "execution_count": 81,
   "metadata": {
    "scrolled": true
   },
   "outputs": [
    {
     "data": {
      "text/plain": [
       "Model(\n",
       "  (fc1): Linear(in_features=4, out_features=8, bias=True)\n",
       "  (fc2): Linear(in_features=8, out_features=9, bias=True)\n",
       "  (out): Linear(in_features=9, out_features=3, bias=True)\n",
       ")"
      ]
     },
     "execution_count": 81,
     "metadata": {},
     "output_type": "execute_result"
    }
   ],
   "source": [
    "yeni_model.eval()"
   ]
  },
  {
   "cell_type": "code",
   "execution_count": null,
   "metadata": {},
   "outputs": [],
   "source": []
  },
  {
   "cell_type": "code",
   "execution_count": 83,
   "metadata": {},
   "outputs": [],
   "source": [
    "mystery_iris=torch.tensor([5.6,3.7,2.2,0.5])"
   ]
  },
  {
   "cell_type": "code",
   "execution_count": 84,
   "metadata": {},
   "outputs": [
    {
     "data": {
      "image/png": "[encoded data removed]",
      "text/plain": [
       "<Figure size 720x504 with 4 Axes>"
      ]
     },
     "metadata": {
      "needs_background": "light"
     },
     "output_type": "display_data"
    }
   ],
   "source": [
    "fig, axes=plt.subplots(nrows=2, ncols=2, figsize=(10,7))\n",
    "fig.tight_layout()\n",
    "\n",
    "plots=[(0,1),(2,3),(0,2),(1,3)]\n",
    "colors=['blue','red','green']\n",
    "labels=[\"Iris Setosa\", \"Iris Virginica\", \"Iris Versicolor\"]\n",
    "\n",
    "for i, ax in enumerate(axes.flat):\n",
    "    for j in range(3):\n",
    "        x=df.columns[plots[i][0]]\n",
    "        y=df.columns[plots[i][1]]\n",
    "        ax.scatter(df[df['Species']==j][x], df[df['Species']==j][y], c=colors[j])\n",
    "        ax.set(xlabel=x, ylabel=y)\n",
    "        \n",
    "    ax.scatter(mystery_iris[plots[i][0]], mystery_iris[plots[i][1]], color='y')\n",
    "fig.legend(labels=labels, loc=3, bbox_to_anchor=(1.0,0.85))\n",
    "plt.show();"
   ]
  },
  {
   "cell_type": "code",
   "execution_count": 85,
   "metadata": {},
   "outputs": [
    {
     "name": "stdout",
     "output_type": "stream",
     "text": [
      "tensor([-10.3785,   7.1793,   3.9056])\n",
      "tensor(1)\n"
     ]
    }
   ],
   "source": [
    "with torch.no_grad():\n",
    "    print(yeni_model(mystery_iris))\n",
    "    print(yeni_model(mystery_iris).argmax())"
   ]
  },
  {
   "cell_type": "markdown",
   "metadata": {},
   "source": [
    "# Evrişimsel Sinir Ağları"
   ]
  },
  {
   "cell_type": "code",
   "execution_count": 104,
   "metadata": {},
   "outputs": [],
   "source": [
    "#!pip install torchvision\n",
    "from torchvision import datasets, transforms\n",
    "from sklearn.metrics import confusion_matrix\n",
    "from torch.utils.data import DataLoader"
   ]
  },
  {
   "cell_type": "code",
   "execution_count": 95,
   "metadata": {},
   "outputs": [],
   "source": [
    "transform= transforms.ToTensor() # veri setini indirdikten sonra tensora çevirmek için bu nesneyi oluşturduk"
   ]
  },
  {
   "cell_type": "code",
   "execution_count": 96,
   "metadata": {},
   "outputs": [
    {
     "name": "stdout",
     "output_type": "stream",
     "text": [
      "Downloading http://yann.lecun.com/exdb/mnist/train-images-idx3-ubyte.gz to Basic-Torch-Education-Data\\MNIST\\raw\\train-images-idx3-ubyte.gz\n"
     ]
    },
    {
     "data": {
      "application/vnd.jupyter.widget-view+json": {
       "model_id": "c6ba1ad3492546cea7b9d354c25c2487",
       "version_major": 2,
       "version_minor": 0
      },
      "text/plain": [
       "HBox(children=(FloatProgress(value=1.0, bar_style='info', max=1.0), HTML(value='')))"
      ]
     },
     "metadata": {},
     "output_type": "display_data"
    },
    {
     "name": "stdout",
     "output_type": "stream",
     "text": [
      "Extracting Basic-Torch-Education-Data\\MNIST\\raw\\train-images-idx3-ubyte.gz to Basic-Torch-Education-Data\\MNIST\\raw\n",
      "Downloading http://yann.lecun.com/exdb/mnist/train-labels-idx1-ubyte.gz to Basic-Torch-Education-Data\\MNIST\\raw\\train-labels-idx1-ubyte.gz\n"
     ]
    },
    {
     "data": {
      "application/vnd.jupyter.widget-view+json": {
       "model_id": "78da23afebf7450a812856b171a6c78a",
       "version_major": 2,
       "version_minor": 0
      },
      "text/plain": [
       "HBox(children=(FloatProgress(value=1.0, bar_style='info', max=1.0), HTML(value='')))"
      ]
     },
     "metadata": {},
     "output_type": "display_data"
    },
    {
     "name": "stdout",
     "output_type": "stream",
     "text": [
      "Extracting Basic-Torch-Education-Data\\MNIST\\raw\\train-labels-idx1-ubyte.gz to Basic-Torch-Education-Data\\MNIST\\raw\n",
      "Downloading http://yann.lecun.com/exdb/mnist/t10k-images-idx3-ubyte.gz to Basic-Torch-Education-Data\\MNIST\\raw\\t10k-images-idx3-ubyte.gz\n"
     ]
    },
    {
     "data": {
      "application/vnd.jupyter.widget-view+json": {
       "model_id": "5e4fae3011534f9b87e41e46fc7a3436",
       "version_major": 2,
       "version_minor": 0
      },
      "text/plain": [
       "HBox(children=(FloatProgress(value=1.0, bar_style='info', max=1.0), HTML(value='')))"
      ]
     },
     "metadata": {},
     "output_type": "display_data"
    },
    {
     "name": "stdout",
     "output_type": "stream",
     "text": [
      "Extracting Basic-Torch-Education-Data\\MNIST\\raw\\t10k-images-idx3-ubyte.gz to Basic-Torch-Education-Data\\MNIST\\raw\n",
      "Downloading http://yann.lecun.com/exdb/mnist/t10k-labels-idx1-ubyte.gz to Basic-Torch-Education-Data\\MNIST\\raw\\t10k-labels-idx1-ubyte.gz\n"
     ]
    },
    {
     "data": {
      "application/vnd.jupyter.widget-view+json": {
       "model_id": "1b8450a33687493ab8758c1300e1be45",
       "version_major": 2,
       "version_minor": 0
      },
      "text/plain": [
       "HBox(children=(FloatProgress(value=1.0, bar_style='info', max=1.0), HTML(value='')))"
      ]
     },
     "metadata": {},
     "output_type": "display_data"
    },
    {
     "name": "stdout",
     "output_type": "stream",
     "text": [
      "Extracting Basic-Torch-Education-Data\\MNIST\\raw\\t10k-labels-idx1-ubyte.gz to Basic-Torch-Education-Data\\MNIST\\raw\n",
      "Processing...\n",
      "Done!\n"
     ]
    },
    {
     "data": {
      "text/plain": [
       "Dataset MNIST\n",
       "    Number of datapoints: 60000\n",
       "    Root location: Basic-Torch-Education-Data\n",
       "    Split: Train\n",
       "    StandardTransform\n",
       "Transform: ToTensor()"
      ]
     },
     "execution_count": 96,
     "metadata": {},
     "output_type": "execute_result"
    }
   ],
   "source": [
    "train_data= datasets.MNIST(root='Basic-Torch-Education-Data',train=True,download=True,transform=transform)\n",
    "train_data"
   ]
  },
  {
   "cell_type": "code",
   "execution_count": 97,
   "metadata": {},
   "outputs": [
    {
     "data": {
      "text/plain": [
       "Dataset MNIST\n",
       "    Number of datapoints: 10000\n",
       "    Root location: Basic-Torch-Education-Data\n",
       "    Split: Test\n",
       "    StandardTransform\n",
       "Transform: ToTensor()"
      ]
     },
     "execution_count": 97,
     "metadata": {},
     "output_type": "execute_result"
    }
   ],
   "source": [
    "test_data=datasets.MNIST(root='Basic-Torch-Education-Data',train=False,download=True,transform=transform)\n",
    "test_data"
   ]
  },
  {
   "cell_type": "code",
   "execution_count": 98,
   "metadata": {},
   "outputs": [
    {
     "data": {
      "text/plain": [
       "(tensor([[[0.0000, 0.0000, 0.0000, 0.0000, 0.0000, 0.0000, 0.0000, 0.0000,\n",
       "           0.0000, 0.0000, 0.0000, 0.0000, 0.0000, 0.0000, 0.0000, 0.0000,\n",
       "           0.0000, 0.0000, 0.0000, 0.0000, 0.0000, 0.0000, 0.0000, 0.0000,\n",
       "           0.0000, 0.0000, 0.0000, 0.0000],\n",
       "          [0.0000, 0.0000, 0.0000, 0.0000, 0.0000, 0.0000, 0.0000, 0.0000,\n",
       "           0.0000, 0.0000, 0.0000, 0.0000, 0.0000, 0.0000, 0.0000, 0.0000,\n",
       "           0.0000, 0.0000, 0.0000, 0.0000, 0.0000, 0.0000, 0.0000, 0.0000,\n",
       "           0.0000, 0.0000, 0.0000, 0.0000],\n",
       "          [0.0000, 0.0000, 0.0000, 0.0000, 0.0000, 0.0000, 0.0000, 0.0000,\n",
       "           0.0000, 0.0000, 0.0000, 0.0000, 0.0000, 0.0000, 0.0000, 0.0000,\n",
       "           0.0000, 0.0000, 0.0000, 0.0000, 0.0000, 0.0000, 0.0000, 0.0000,\n",
       "           0.0000, 0.0000, 0.0000, 0.0000],\n",
       "          [0.0000, 0.0000, 0.0000, 0.0000, 0.0000, 0.0000, 0.0000, 0.0000,\n",
       "           0.0000, 0.0000, 0.0000, 0.0000, 0.0000, 0.0000, 0.0000, 0.0000,\n",
       "           0.0000, 0.0000, 0.0000, 0.0000, 0.0000, 0.0000, 0.0000, 0.0000,\n",
       "           0.0000, 0.0000, 0.0000, 0.0000],\n",
       "          [0.0000, 0.0000, 0.0000, 0.0000, 0.0000, 0.0000, 0.0000, 0.0000,\n",
       "           0.0000, 0.0000, 0.0000, 0.0000, 0.0000, 0.0000, 0.0000, 0.0000,\n",
       "           0.0000, 0.0000, 0.0000, 0.0000, 0.0000, 0.0000, 0.0000, 0.0000,\n",
       "           0.0000, 0.0000, 0.0000, 0.0000],\n",
       "          [0.0000, 0.0000, 0.0000, 0.0000, 0.0000, 0.0000, 0.0000, 0.0000,\n",
       "           0.0000, 0.0000, 0.0000, 0.0000, 0.0118, 0.0706, 0.0706, 0.0706,\n",
       "           0.4941, 0.5333, 0.6863, 0.1020, 0.6510, 1.0000, 0.9686, 0.4980,\n",
       "           0.0000, 0.0000, 0.0000, 0.0000],\n",
       "          [0.0000, 0.0000, 0.0000, 0.0000, 0.0000, 0.0000, 0.0000, 0.0000,\n",
       "           0.1176, 0.1412, 0.3686, 0.6039, 0.6667, 0.9922, 0.9922, 0.9922,\n",
       "           0.9922, 0.9922, 0.8824, 0.6745, 0.9922, 0.9490, 0.7647, 0.2510,\n",
       "           0.0000, 0.0000, 0.0000, 0.0000],\n",
       "          [0.0000, 0.0000, 0.0000, 0.0000, 0.0000, 0.0000, 0.0000, 0.1922,\n",
       "           0.9333, 0.9922, 0.9922, 0.9922, 0.9922, 0.9922, 0.9922, 0.9922,\n",
       "           0.9922, 0.9843, 0.3647, 0.3216, 0.3216, 0.2196, 0.1529, 0.0000,\n",
       "           0.0000, 0.0000, 0.0000, 0.0000],\n",
       "          [0.0000, 0.0000, 0.0000, 0.0000, 0.0000, 0.0000, 0.0000, 0.0706,\n",
       "           0.8588, 0.9922, 0.9922, 0.9922, 0.9922, 0.9922, 0.7765, 0.7137,\n",
       "           0.9686, 0.9451, 0.0000, 0.0000, 0.0000, 0.0000, 0.0000, 0.0000,\n",
       "           0.0000, 0.0000, 0.0000, 0.0000],\n",
       "          [0.0000, 0.0000, 0.0000, 0.0000, 0.0000, 0.0000, 0.0000, 0.0000,\n",
       "           0.3137, 0.6118, 0.4196, 0.9922, 0.9922, 0.8039, 0.0431, 0.0000,\n",
       "           0.1686, 0.6039, 0.0000, 0.0000, 0.0000, 0.0000, 0.0000, 0.0000,\n",
       "           0.0000, 0.0000, 0.0000, 0.0000],\n",
       "          [0.0000, 0.0000, 0.0000, 0.0000, 0.0000, 0.0000, 0.0000, 0.0000,\n",
       "           0.0000, 0.0549, 0.0039, 0.6039, 0.9922, 0.3529, 0.0000, 0.0000,\n",
       "           0.0000, 0.0000, 0.0000, 0.0000, 0.0000, 0.0000, 0.0000, 0.0000,\n",
       "           0.0000, 0.0000, 0.0000, 0.0000],\n",
       "          [0.0000, 0.0000, 0.0000, 0.0000, 0.0000, 0.0000, 0.0000, 0.0000,\n",
       "           0.0000, 0.0000, 0.0000, 0.5451, 0.9922, 0.7451, 0.0078, 0.0000,\n",
       "           0.0000, 0.0000, 0.0000, 0.0000, 0.0000, 0.0000, 0.0000, 0.0000,\n",
       "           0.0000, 0.0000, 0.0000, 0.0000],\n",
       "          [0.0000, 0.0000, 0.0000, 0.0000, 0.0000, 0.0000, 0.0000, 0.0000,\n",
       "           0.0000, 0.0000, 0.0000, 0.0431, 0.7451, 0.9922, 0.2745, 0.0000,\n",
       "           0.0000, 0.0000, 0.0000, 0.0000, 0.0000, 0.0000, 0.0000, 0.0000,\n",
       "           0.0000, 0.0000, 0.0000, 0.0000],\n",
       "          [0.0000, 0.0000, 0.0000, 0.0000, 0.0000, 0.0000, 0.0000, 0.0000,\n",
       "           0.0000, 0.0000, 0.0000, 0.0000, 0.1373, 0.9451, 0.8824, 0.6275,\n",
       "           0.4235, 0.0039, 0.0000, 0.0000, 0.0000, 0.0000, 0.0000, 0.0000,\n",
       "           0.0000, 0.0000, 0.0000, 0.0000],\n",
       "          [0.0000, 0.0000, 0.0000, 0.0000, 0.0000, 0.0000, 0.0000, 0.0000,\n",
       "           0.0000, 0.0000, 0.0000, 0.0000, 0.0000, 0.3176, 0.9412, 0.9922,\n",
       "           0.9922, 0.4667, 0.0980, 0.0000, 0.0000, 0.0000, 0.0000, 0.0000,\n",
       "           0.0000, 0.0000, 0.0000, 0.0000],\n",
       "          [0.0000, 0.0000, 0.0000, 0.0000, 0.0000, 0.0000, 0.0000, 0.0000,\n",
       "           0.0000, 0.0000, 0.0000, 0.0000, 0.0000, 0.0000, 0.1765, 0.7294,\n",
       "           0.9922, 0.9922, 0.5882, 0.1059, 0.0000, 0.0000, 0.0000, 0.0000,\n",
       "           0.0000, 0.0000, 0.0000, 0.0000],\n",
       "          [0.0000, 0.0000, 0.0000, 0.0000, 0.0000, 0.0000, 0.0000, 0.0000,\n",
       "           0.0000, 0.0000, 0.0000, 0.0000, 0.0000, 0.0000, 0.0000, 0.0627,\n",
       "           0.3647, 0.9882, 0.9922, 0.7333, 0.0000, 0.0000, 0.0000, 0.0000,\n",
       "           0.0000, 0.0000, 0.0000, 0.0000],\n",
       "          [0.0000, 0.0000, 0.0000, 0.0000, 0.0000, 0.0000, 0.0000, 0.0000,\n",
       "           0.0000, 0.0000, 0.0000, 0.0000, 0.0000, 0.0000, 0.0000, 0.0000,\n",
       "           0.0000, 0.9765, 0.9922, 0.9765, 0.2510, 0.0000, 0.0000, 0.0000,\n",
       "           0.0000, 0.0000, 0.0000, 0.0000],\n",
       "          [0.0000, 0.0000, 0.0000, 0.0000, 0.0000, 0.0000, 0.0000, 0.0000,\n",
       "           0.0000, 0.0000, 0.0000, 0.0000, 0.0000, 0.0000, 0.1804, 0.5098,\n",
       "           0.7176, 0.9922, 0.9922, 0.8118, 0.0078, 0.0000, 0.0000, 0.0000,\n",
       "           0.0000, 0.0000, 0.0000, 0.0000],\n",
       "          [0.0000, 0.0000, 0.0000, 0.0000, 0.0000, 0.0000, 0.0000, 0.0000,\n",
       "           0.0000, 0.0000, 0.0000, 0.0000, 0.1529, 0.5804, 0.8980, 0.9922,\n",
       "           0.9922, 0.9922, 0.9804, 0.7137, 0.0000, 0.0000, 0.0000, 0.0000,\n",
       "           0.0000, 0.0000, 0.0000, 0.0000],\n",
       "          [0.0000, 0.0000, 0.0000, 0.0000, 0.0000, 0.0000, 0.0000, 0.0000,\n",
       "           0.0000, 0.0000, 0.0941, 0.4471, 0.8667, 0.9922, 0.9922, 0.9922,\n",
       "           0.9922, 0.7882, 0.3059, 0.0000, 0.0000, 0.0000, 0.0000, 0.0000,\n",
       "           0.0000, 0.0000, 0.0000, 0.0000],\n",
       "          [0.0000, 0.0000, 0.0000, 0.0000, 0.0000, 0.0000, 0.0000, 0.0000,\n",
       "           0.0902, 0.2588, 0.8353, 0.9922, 0.9922, 0.9922, 0.9922, 0.7765,\n",
       "           0.3176, 0.0078, 0.0000, 0.0000, 0.0000, 0.0000, 0.0000, 0.0000,\n",
       "           0.0000, 0.0000, 0.0000, 0.0000],\n",
       "          [0.0000, 0.0000, 0.0000, 0.0000, 0.0000, 0.0000, 0.0706, 0.6706,\n",
       "           0.8588, 0.9922, 0.9922, 0.9922, 0.9922, 0.7647, 0.3137, 0.0353,\n",
       "           0.0000, 0.0000, 0.0000, 0.0000, 0.0000, 0.0000, 0.0000, 0.0000,\n",
       "           0.0000, 0.0000, 0.0000, 0.0000],\n",
       "          [0.0000, 0.0000, 0.0000, 0.0000, 0.2157, 0.6745, 0.8863, 0.9922,\n",
       "           0.9922, 0.9922, 0.9922, 0.9569, 0.5216, 0.0431, 0.0000, 0.0000,\n",
       "           0.0000, 0.0000, 0.0000, 0.0000, 0.0000, 0.0000, 0.0000, 0.0000,\n",
       "           0.0000, 0.0000, 0.0000, 0.0000],\n",
       "          [0.0000, 0.0000, 0.0000, 0.0000, 0.5333, 0.9922, 0.9922, 0.9922,\n",
       "           0.8314, 0.5294, 0.5176, 0.0627, 0.0000, 0.0000, 0.0000, 0.0000,\n",
       "           0.0000, 0.0000, 0.0000, 0.0000, 0.0000, 0.0000, 0.0000, 0.0000,\n",
       "           0.0000, 0.0000, 0.0000, 0.0000],\n",
       "          [0.0000, 0.0000, 0.0000, 0.0000, 0.0000, 0.0000, 0.0000, 0.0000,\n",
       "           0.0000, 0.0000, 0.0000, 0.0000, 0.0000, 0.0000, 0.0000, 0.0000,\n",
       "           0.0000, 0.0000, 0.0000, 0.0000, 0.0000, 0.0000, 0.0000, 0.0000,\n",
       "           0.0000, 0.0000, 0.0000, 0.0000],\n",
       "          [0.0000, 0.0000, 0.0000, 0.0000, 0.0000, 0.0000, 0.0000, 0.0000,\n",
       "           0.0000, 0.0000, 0.0000, 0.0000, 0.0000, 0.0000, 0.0000, 0.0000,\n",
       "           0.0000, 0.0000, 0.0000, 0.0000, 0.0000, 0.0000, 0.0000, 0.0000,\n",
       "           0.0000, 0.0000, 0.0000, 0.0000],\n",
       "          [0.0000, 0.0000, 0.0000, 0.0000, 0.0000, 0.0000, 0.0000, 0.0000,\n",
       "           0.0000, 0.0000, 0.0000, 0.0000, 0.0000, 0.0000, 0.0000, 0.0000,\n",
       "           0.0000, 0.0000, 0.0000, 0.0000, 0.0000, 0.0000, 0.0000, 0.0000,\n",
       "           0.0000, 0.0000, 0.0000, 0.0000]]]),\n",
       " 5)"
      ]
     },
     "execution_count": 98,
     "metadata": {},
     "output_type": "execute_result"
    }
   ],
   "source": [
    "train_data[0]"
   ]
  },
  {
   "cell_type": "code",
   "execution_count": 99,
   "metadata": {},
   "outputs": [
    {
     "data": {
      "text/plain": [
       "tensor([[[0.0000, 0.0000, 0.0000, 0.0000, 0.0000, 0.0000, 0.0000, 0.0000,\n",
       "          0.0000, 0.0000, 0.0000, 0.0000, 0.0000, 0.0000, 0.0000, 0.0000,\n",
       "          0.0000, 0.0000, 0.0000, 0.0000, 0.0000, 0.0000, 0.0000, 0.0000,\n",
       "          0.0000, 0.0000, 0.0000, 0.0000],\n",
       "         [0.0000, 0.0000, 0.0000, 0.0000, 0.0000, 0.0000, 0.0000, 0.0000,\n",
       "          0.0000, 0.0000, 0.0000, 0.0000, 0.0000, 0.0000, 0.0000, 0.0000,\n",
       "          0.0000, 0.0000, 0.0000, 0.0000, 0.0000, 0.0000, 0.0000, 0.0000,\n",
       "          0.0000, 0.0000, 0.0000, 0.0000],\n",
       "         [0.0000, 0.0000, 0.0000, 0.0000, 0.0000, 0.0000, 0.0000, 0.0000,\n",
       "          0.0000, 0.0000, 0.0000, 0.0000, 0.0000, 0.0000, 0.0000, 0.0000,\n",
       "          0.0000, 0.0000, 0.0000, 0.0000, 0.0000, 0.0000, 0.0000, 0.0000,\n",
       "          0.0000, 0.0000, 0.0000, 0.0000],\n",
       "         [0.0000, 0.0000, 0.0000, 0.0000, 0.0000, 0.0000, 0.0000, 0.0000,\n",
       "          0.0000, 0.0000, 0.0000, 0.0000, 0.0000, 0.0000, 0.0000, 0.0000,\n",
       "          0.0000, 0.0000, 0.0000, 0.0000, 0.0000, 0.0000, 0.0000, 0.0000,\n",
       "          0.0000, 0.0000, 0.0000, 0.0000],\n",
       "         [0.0000, 0.0000, 0.0000, 0.0000, 0.0000, 0.0000, 0.0000, 0.0000,\n",
       "          0.0000, 0.0000, 0.0000, 0.0000, 0.0000, 0.0000, 0.0000, 0.0000,\n",
       "          0.0000, 0.0000, 0.0000, 0.0000, 0.0000, 0.0000, 0.0000, 0.0000,\n",
       "          0.0000, 0.0000, 0.0000, 0.0000],\n",
       "         [0.0000, 0.0000, 0.0000, 0.0000, 0.0000, 0.0000, 0.0000, 0.0000,\n",
       "          0.0000, 0.0000, 0.0000, 0.0000, 0.0118, 0.0706, 0.0706, 0.0706,\n",
       "          0.4941, 0.5333, 0.6863, 0.1020, 0.6510, 1.0000, 0.9686, 0.4980,\n",
       "          0.0000, 0.0000, 0.0000, 0.0000],\n",
       "         [0.0000, 0.0000, 0.0000, 0.0000, 0.0000, 0.0000, 0.0000, 0.0000,\n",
       "          0.1176, 0.1412, 0.3686, 0.6039, 0.6667, 0.9922, 0.9922, 0.9922,\n",
       "          0.9922, 0.9922, 0.8824, 0.6745, 0.9922, 0.9490, 0.7647, 0.2510,\n",
       "          0.0000, 0.0000, 0.0000, 0.0000],\n",
       "         [0.0000, 0.0000, 0.0000, 0.0000, 0.0000, 0.0000, 0.0000, 0.1922,\n",
       "          0.9333, 0.9922, 0.9922, 0.9922, 0.9922, 0.9922, 0.9922, 0.9922,\n",
       "          0.9922, 0.9843, 0.3647, 0.3216, 0.3216, 0.2196, 0.1529, 0.0000,\n",
       "          0.0000, 0.0000, 0.0000, 0.0000],\n",
       "         [0.0000, 0.0000, 0.0000, 0.0000, 0.0000, 0.0000, 0.0000, 0.0706,\n",
       "          0.8588, 0.9922, 0.9922, 0.9922, 0.9922, 0.9922, 0.7765, 0.7137,\n",
       "          0.9686, 0.9451, 0.0000, 0.0000, 0.0000, 0.0000, 0.0000, 0.0000,\n",
       "          0.0000, 0.0000, 0.0000, 0.0000],\n",
       "         [0.0000, 0.0000, 0.0000, 0.0000, 0.0000, 0.0000, 0.0000, 0.0000,\n",
       "          0.3137, 0.6118, 0.4196, 0.9922, 0.9922, 0.8039, 0.0431, 0.0000,\n",
       "          0.1686, 0.6039, 0.0000, 0.0000, 0.0000, 0.0000, 0.0000, 0.0000,\n",
       "          0.0000, 0.0000, 0.0000, 0.0000],\n",
       "         [0.0000, 0.0000, 0.0000, 0.0000, 0.0000, 0.0000, 0.0000, 0.0000,\n",
       "          0.0000, 0.0549, 0.0039, 0.6039, 0.9922, 0.3529, 0.0000, 0.0000,\n",
       "          0.0000, 0.0000, 0.0000, 0.0000, 0.0000, 0.0000, 0.0000, 0.0000,\n",
       "          0.0000, 0.0000, 0.0000, 0.0000],\n",
       "         [0.0000, 0.0000, 0.0000, 0.0000, 0.0000, 0.0000, 0.0000, 0.0000,\n",
       "          0.0000, 0.0000, 0.0000, 0.5451, 0.9922, 0.7451, 0.0078, 0.0000,\n",
       "          0.0000, 0.0000, 0.0000, 0.0000, 0.0000, 0.0000, 0.0000, 0.0000,\n",
       "          0.0000, 0.0000, 0.0000, 0.0000],\n",
       "         [0.0000, 0.0000, 0.0000, 0.0000, 0.0000, 0.0000, 0.0000, 0.0000,\n",
       "          0.0000, 0.0000, 0.0000, 0.0431, 0.7451, 0.9922, 0.2745, 0.0000,\n",
       "          0.0000, 0.0000, 0.0000, 0.0000, 0.0000, 0.0000, 0.0000, 0.0000,\n",
       "          0.0000, 0.0000, 0.0000, 0.0000],\n",
       "         [0.0000, 0.0000, 0.0000, 0.0000, 0.0000, 0.0000, 0.0000, 0.0000,\n",
       "          0.0000, 0.0000, 0.0000, 0.0000, 0.1373, 0.9451, 0.8824, 0.6275,\n",
       "          0.4235, 0.0039, 0.0000, 0.0000, 0.0000, 0.0000, 0.0000, 0.0000,\n",
       "          0.0000, 0.0000, 0.0000, 0.0000],\n",
       "         [0.0000, 0.0000, 0.0000, 0.0000, 0.0000, 0.0000, 0.0000, 0.0000,\n",
       "          0.0000, 0.0000, 0.0000, 0.0000, 0.0000, 0.3176, 0.9412, 0.9922,\n",
       "          0.9922, 0.4667, 0.0980, 0.0000, 0.0000, 0.0000, 0.0000, 0.0000,\n",
       "          0.0000, 0.0000, 0.0000, 0.0000],\n",
       "         [0.0000, 0.0000, 0.0000, 0.0000, 0.0000, 0.0000, 0.0000, 0.0000,\n",
       "          0.0000, 0.0000, 0.0000, 0.0000, 0.0000, 0.0000, 0.1765, 0.7294,\n",
       "          0.9922, 0.9922, 0.5882, 0.1059, 0.0000, 0.0000, 0.0000, 0.0000,\n",
       "          0.0000, 0.0000, 0.0000, 0.0000],\n",
       "         [0.0000, 0.0000, 0.0000, 0.0000, 0.0000, 0.0000, 0.0000, 0.0000,\n",
       "          0.0000, 0.0000, 0.0000, 0.0000, 0.0000, 0.0000, 0.0000, 0.0627,\n",
       "          0.3647, 0.9882, 0.9922, 0.7333, 0.0000, 0.0000, 0.0000, 0.0000,\n",
       "          0.0000, 0.0000, 0.0000, 0.0000],\n",
       "         [0.0000, 0.0000, 0.0000, 0.0000, 0.0000, 0.0000, 0.0000, 0.0000,\n",
       "          0.0000, 0.0000, 0.0000, 0.0000, 0.0000, 0.0000, 0.0000, 0.0000,\n",
       "          0.0000, 0.9765, 0.9922, 0.9765, 0.2510, 0.0000, 0.0000, 0.0000,\n",
       "          0.0000, 0.0000, 0.0000, 0.0000],\n",
       "         [0.0000, 0.0000, 0.0000, 0.0000, 0.0000, 0.0000, 0.0000, 0.0000,\n",
       "          0.0000, 0.0000, 0.0000, 0.0000, 0.0000, 0.0000, 0.1804, 0.5098,\n",
       "          0.7176, 0.9922, 0.9922, 0.8118, 0.0078, 0.0000, 0.0000, 0.0000,\n",
       "          0.0000, 0.0000, 0.0000, 0.0000],\n",
       "         [0.0000, 0.0000, 0.0000, 0.0000, 0.0000, 0.0000, 0.0000, 0.0000,\n",
       "          0.0000, 0.0000, 0.0000, 0.0000, 0.1529, 0.5804, 0.8980, 0.9922,\n",
       "          0.9922, 0.9922, 0.9804, 0.7137, 0.0000, 0.0000, 0.0000, 0.0000,\n",
       "          0.0000, 0.0000, 0.0000, 0.0000],\n",
       "         [0.0000, 0.0000, 0.0000, 0.0000, 0.0000, 0.0000, 0.0000, 0.0000,\n",
       "          0.0000, 0.0000, 0.0941, 0.4471, 0.8667, 0.9922, 0.9922, 0.9922,\n",
       "          0.9922, 0.7882, 0.3059, 0.0000, 0.0000, 0.0000, 0.0000, 0.0000,\n",
       "          0.0000, 0.0000, 0.0000, 0.0000],\n",
       "         [0.0000, 0.0000, 0.0000, 0.0000, 0.0000, 0.0000, 0.0000, 0.0000,\n",
       "          0.0902, 0.2588, 0.8353, 0.9922, 0.9922, 0.9922, 0.9922, 0.7765,\n",
       "          0.3176, 0.0078, 0.0000, 0.0000, 0.0000, 0.0000, 0.0000, 0.0000,\n",
       "          0.0000, 0.0000, 0.0000, 0.0000],\n",
       "         [0.0000, 0.0000, 0.0000, 0.0000, 0.0000, 0.0000, 0.0706, 0.6706,\n",
       "          0.8588, 0.9922, 0.9922, 0.9922, 0.9922, 0.7647, 0.3137, 0.0353,\n",
       "          0.0000, 0.0000, 0.0000, 0.0000, 0.0000, 0.0000, 0.0000, 0.0000,\n",
       "          0.0000, 0.0000, 0.0000, 0.0000],\n",
       "         [0.0000, 0.0000, 0.0000, 0.0000, 0.2157, 0.6745, 0.8863, 0.9922,\n",
       "          0.9922, 0.9922, 0.9922, 0.9569, 0.5216, 0.0431, 0.0000, 0.0000,\n",
       "          0.0000, 0.0000, 0.0000, 0.0000, 0.0000, 0.0000, 0.0000, 0.0000,\n",
       "          0.0000, 0.0000, 0.0000, 0.0000],\n",
       "         [0.0000, 0.0000, 0.0000, 0.0000, 0.5333, 0.9922, 0.9922, 0.9922,\n",
       "          0.8314, 0.5294, 0.5176, 0.0627, 0.0000, 0.0000, 0.0000, 0.0000,\n",
       "          0.0000, 0.0000, 0.0000, 0.0000, 0.0000, 0.0000, 0.0000, 0.0000,\n",
       "          0.0000, 0.0000, 0.0000, 0.0000],\n",
       "         [0.0000, 0.0000, 0.0000, 0.0000, 0.0000, 0.0000, 0.0000, 0.0000,\n",
       "          0.0000, 0.0000, 0.0000, 0.0000, 0.0000, 0.0000, 0.0000, 0.0000,\n",
       "          0.0000, 0.0000, 0.0000, 0.0000, 0.0000, 0.0000, 0.0000, 0.0000,\n",
       "          0.0000, 0.0000, 0.0000, 0.0000],\n",
       "         [0.0000, 0.0000, 0.0000, 0.0000, 0.0000, 0.0000, 0.0000, 0.0000,\n",
       "          0.0000, 0.0000, 0.0000, 0.0000, 0.0000, 0.0000, 0.0000, 0.0000,\n",
       "          0.0000, 0.0000, 0.0000, 0.0000, 0.0000, 0.0000, 0.0000, 0.0000,\n",
       "          0.0000, 0.0000, 0.0000, 0.0000],\n",
       "         [0.0000, 0.0000, 0.0000, 0.0000, 0.0000, 0.0000, 0.0000, 0.0000,\n",
       "          0.0000, 0.0000, 0.0000, 0.0000, 0.0000, 0.0000, 0.0000, 0.0000,\n",
       "          0.0000, 0.0000, 0.0000, 0.0000, 0.0000, 0.0000, 0.0000, 0.0000,\n",
       "          0.0000, 0.0000, 0.0000, 0.0000]]])"
      ]
     },
     "execution_count": 99,
     "metadata": {},
     "output_type": "execute_result"
    }
   ],
   "source": [
    "image, label=train_data[0]\n",
    "image"
   ]
  },
  {
   "cell_type": "code",
   "execution_count": 100,
   "metadata": {},
   "outputs": [
    {
     "data": {
      "text/plain": [
       "5"
      ]
     },
     "execution_count": 100,
     "metadata": {},
     "output_type": "execute_result"
    }
   ],
   "source": [
    "label"
   ]
  },
  {
   "cell_type": "code",
   "execution_count": 101,
   "metadata": {},
   "outputs": [
    {
     "data": {
      "image/png": "[encoded data removed]",
      "text/plain": [
       "<Figure size 432x288 with 1 Axes>"
      ]
     },
     "metadata": {
      "needs_background": "light"
     },
     "output_type": "display_data"
    }
   ],
   "source": [
    "plt.imshow(train_data[0][0].reshape((28,28)),cmap='gray');"
   ]
  },
  {
   "cell_type": "code",
   "execution_count": 102,
   "metadata": {},
   "outputs": [
    {
     "data": {
      "image/png": "[encoded data removed]",
      "text/plain": [
       "<Figure size 432x288 with 1 Axes>"
      ]
     },
     "metadata": {
      "needs_background": "light"
     },
     "output_type": "display_data"
    }
   ],
   "source": [
    "plt.imshow(train_data[0][0].reshape((28,28)),cmap='gist_yarg');"
   ]
  },
  {
   "cell_type": "code",
   "execution_count": 105,
   "metadata": {},
   "outputs": [],
   "source": [
    "torch.manual_seed(42)\n",
    "train_load=DataLoader(train_data,batch_size=100,shuffle=True)\n",
    "test_load=DataLoader(test_data,batch_size=500,shuffle=False)"
   ]
  },
  {
   "cell_type": "code",
   "execution_count": 106,
   "metadata": {},
   "outputs": [
    {
     "name": "stdout",
     "output_type": "stream",
     "text": [
      "Labels [   8    1    4    6    3    4    0    2    7    6    4    0]\n"
     ]
    },
    {
     "data": {
      "image/png": "[encoded data removed]",
      "text/plain": [
       "<Figure size 720x288 with 1 Axes>"
      ]
     },
     "metadata": {
      "needs_background": "light"
     },
     "output_type": "display_data"
    }
   ],
   "source": [
    "from torchvision.utils import make_grid\n",
    "np.set_printoptions(formatter=dict(int=lambda x: f'{x:4}'))\n",
    "\n",
    "for images, labels in train_load:\n",
    "    break\n",
    "\n",
    "print('Labels', labels[:12].numpy()) # labelsları tekrar numpy a çevirdik\n",
    "\n",
    "im=make_grid(images[:12], nrow=12) # nrow parametresi kaç data istediğimizi belirler, bu 12 datayı grid üzerine gömdük\n",
    "plt.figure(figsize=(10,4))\n",
    "plt.imshow(np.transpose(im.numpy(),(1,2,0))); # imshow image göstermek için gerekli"
   ]
  },
  {
   "cell_type": "code",
   "execution_count": 107,
   "metadata": {},
   "outputs": [],
   "source": [
    "# yapay sinir ağı oluşturmak için class oluşturuyoruz\n",
    "class MultilayerPerceptron(nn.Module):\n",
    "    def __init__(self,in_sz=784,out_sz=10,layers=[120,84]): # in_sz= input size out-sz= output size\n",
    "        super().__init__()\n",
    "        self.fc1=nn.Linear(in_sz,layers[0])\n",
    "        self.fc2=nn.Linear(layers[0],layers[1])\n",
    "        self.fc3=nn.Linear(layers[1],out_sz)\n",
    "        \n",
    "    def forward(self,X):\n",
    "        X=F.relu(self.fc1(X))\n",
    "        X=F.relu(self.fc2(X))\n",
    "        X=self.fc3(X)\n",
    "        return F.log_softmax(X,dim=1) # log_softmax aktivasyon çıkış katmanıdır"
   ]
  },
  {
   "cell_type": "code",
   "execution_count": 108,
   "metadata": {},
   "outputs": [
    {
     "data": {
      "text/plain": [
       "MultilayerPerceptron(\n",
       "  (fc1): Linear(in_features=784, out_features=120, bias=True)\n",
       "  (fc2): Linear(in_features=120, out_features=84, bias=True)\n",
       "  (fc3): Linear(in_features=84, out_features=10, bias=True)\n",
       ")"
      ]
     },
     "execution_count": 108,
     "metadata": {},
     "output_type": "execute_result"
    }
   ],
   "source": [
    "torch.manual_seed(42)\n",
    "model=MultilayerPerceptron()\n",
    "model"
   ]
  },
  {
   "cell_type": "code",
   "execution_count": 109,
   "metadata": {},
   "outputs": [],
   "source": [
    "# yapay sinir ağındaki parametre sayısını öğrenmek için fonksiyon yazıyoruz\n",
    "def count_parameters(model):\n",
    "    params=[p.numel() for p in model.parameters() if p.requires_grad]\n",
    "    for item in params:\n",
    "        print(f'{item:>6}')\n",
    "    print(f'_________\\n{sum(params):>6}')"
   ]
  },
  {
   "cell_type": "code",
   "execution_count": 110,
   "metadata": {},
   "outputs": [
    {
     "name": "stdout",
     "output_type": "stream",
     "text": [
      " 94080\n",
      "   120\n",
      " 10080\n",
      "    84\n",
      "   840\n",
      "    10\n",
      "_________\n",
      "105214\n"
     ]
    }
   ],
   "source": [
    "count_parameters(model)"
   ]
  },
  {
   "cell_type": "code",
   "execution_count": 111,
   "metadata": {},
   "outputs": [],
   "source": [
    "criterion=nn.CrossEntropyLoss()\n",
    "optimizer=torch.optim.Adam(model.parameters(),lr=0.001)"
   ]
  },
  {
   "cell_type": "code",
   "execution_count": 112,
   "metadata": {},
   "outputs": [
    {
     "name": "stdout",
     "output_type": "stream",
     "text": [
      "Batch shape: torch.Size([100, 1, 28, 28])\n"
     ]
    }
   ],
   "source": [
    "# elimizdeki dataları flatten, vektörel hale getiriyoruz\n",
    "for images, labels in train_load:\n",
    "    print('Batch shape:',images.size())\n",
    "    break"
   ]
  },
  {
   "cell_type": "code",
   "execution_count": 113,
   "metadata": {},
   "outputs": [
    {
     "data": {
      "text/plain": [
       "torch.Size([100, 784])"
      ]
     },
     "execution_count": 113,
     "metadata": {},
     "output_type": "execute_result"
    }
   ],
   "source": [
    "images.view(100,-1).size()"
   ]
  },
  {
   "cell_type": "code",
   "execution_count": 114,
   "metadata": {},
   "outputs": [
    {
     "name": "stdout",
     "output_type": "stream",
     "text": [
      "epoch: 0 batch: 200 [ 20000/60000] loss: 0.26041692 accuracy:  83.135%\n",
      "epoch: 0 batch: 400 [ 40000/60000] loss: 0.25282389 accuracy:  87.343%\n",
      "epoch: 0 batch: 600 [ 60000/60000] loss: 0.10505854 accuracy:  89.380%\n",
      "epoch: 1 batch: 200 [ 20000/60000] loss: 0.10632504 accuracy:  94.835%\n",
      "epoch: 1 batch: 400 [ 40000/60000] loss: 0.16142839 accuracy:  95.250%\n",
      "epoch: 1 batch: 600 [ 60000/60000] loss: 0.08832384 accuracy:  95.508%\n",
      "epoch: 2 batch: 200 [ 20000/60000] loss: 0.19046749 accuracy:  96.800%\n",
      "epoch: 2 batch: 400 [ 40000/60000] loss: 0.07796133 accuracy:  96.763%\n",
      "epoch: 2 batch: 600 [ 60000/60000] loss: 0.13374242 accuracy:  96.728%\n",
      "epoch: 3 batch: 200 [ 20000/60000] loss: 0.04620034 accuracy:  97.650%\n",
      "epoch: 3 batch: 400 [ 40000/60000] loss: 0.09978464 accuracy:  97.545%\n",
      "epoch: 3 batch: 600 [ 60000/60000] loss: 0.09209771 accuracy:  97.545%\n",
      "epoch: 4 batch: 200 [ 20000/60000] loss: 0.02186548 accuracy:  97.995%\n",
      "epoch: 4 batch: 400 [ 40000/60000] loss: 0.03589911 accuracy:  98.030%\n",
      "epoch: 4 batch: 600 [ 60000/60000] loss: 0.05577463 accuracy:  98.067%\n",
      "epoch: 5 batch: 200 [ 20000/60000] loss: 0.03843893 accuracy:  98.420%\n",
      "epoch: 5 batch: 400 [ 40000/60000] loss: 0.05898279 accuracy:  98.463%\n",
      "epoch: 5 batch: 600 [ 60000/60000] loss: 0.06365997 accuracy:  98.402%\n",
      "epoch: 6 batch: 200 [ 20000/60000] loss: 0.01224072 accuracy:  98.905%\n",
      "epoch: 6 batch: 400 [ 40000/60000] loss: 0.01990207 accuracy:  98.800%\n",
      "epoch: 6 batch: 600 [ 60000/60000] loss: 0.01534720 accuracy:  98.710%\n",
      "epoch: 7 batch: 200 [ 20000/60000] loss: 0.04997933 accuracy:  99.045%\n",
      "epoch: 7 batch: 400 [ 40000/60000] loss: 0.05578552 accuracy:  98.980%\n",
      "epoch: 7 batch: 600 [ 60000/60000] loss: 0.06627015 accuracy:  98.910%\n",
      "epoch: 8 batch: 200 [ 20000/60000] loss: 0.03506244 accuracy:  99.175%\n",
      "epoch: 8 batch: 400 [ 40000/60000] loss: 0.02521992 accuracy:  99.170%\n",
      "epoch: 8 batch: 600 [ 60000/60000] loss: 0.01444618 accuracy:  99.080%\n",
      "epoch: 9 batch: 200 [ 20000/60000] loss: 0.08830289 accuracy:  99.335%\n",
      "epoch: 9 batch: 400 [ 40000/60000] loss: 0.01820851 accuracy:  99.290%\n",
      "epoch: 9 batch: 600 [ 60000/60000] loss: 0.01195363 accuracy:  99.208%\n",
      "\n",
      "Duration:163 seconds\n"
     ]
    }
   ],
   "source": [
    "import time\n",
    "start_time=time.time() # başlangıç zaman bilgisini barındıracak\n",
    "\n",
    "epochs=10\n",
    "train_losses=[]\n",
    "test_losses=[]\n",
    "train_correct=[]\n",
    "test_correct=[]\n",
    "\n",
    "for i in range(epochs):\n",
    "    trn_corr=0 # train correct kısaltması\n",
    "    tst_corr=0\n",
    "    \n",
    "    for b, (X_train, y_train) in enumerate(train_load):\n",
    "        b+=1\n",
    "        \n",
    "        y_pred=model(X_train.view(100,-1)) # her bir görüntüye sırayla prediction yaptıracak\n",
    "        loss=criterion(y_pred, y_train)\n",
    "        \n",
    "        predicted=torch.max(y_pred.data, 1)[1] # maksimum değerli gözlemi seçecek\n",
    "        batch_corr=(predicted==y_train).sum() # her batch için korelasyon alacak ( gerçek değer ve tahmin tutuyorsa bu değerleri topla)\n",
    "        trn_corr+=batch_corr\n",
    "        \n",
    "        optimizer.zero_grad()\n",
    "        loss.backward()\n",
    "        optimizer.step()\n",
    "        \n",
    "        if b%200==0:\n",
    "            print(f'epoch:{i:2} batch:{b:4} [{100*b:6}/60000] loss: {loss.item():10.8f} accuracy: {trn_corr.item()*100/(100*b):7.3f}%')\n",
    "            \n",
    "    train_losses.append(loss)\n",
    "    train_correct.append(trn_corr)\n",
    "    \n",
    "    \n",
    "    with torch.no_grad():\n",
    "        for b, (X_test, y_test) in enumerate(test_load):\n",
    "            y_val=model(X_test.view(500,-1)) # y_validation\n",
    "            \n",
    "            predicted=torch.max(y_val.data,1)[1]\n",
    "            tst_corr+=(predicted==y_test).sum()\n",
    "    \n",
    "    loss=criterion(y_val,y_test)\n",
    "    test_losses.append(loss)\n",
    "    test_correct.append(tst_corr)\n",
    "\n",
    "\n",
    "print(f'\\nDuration:{time.time()-start_time:.0f} seconds')"
   ]
  },
  {
   "cell_type": "code",
   "execution_count": 115,
   "metadata": {},
   "outputs": [
    {
     "data": {
      "image/png": "[encoded data removed]",
      "text/plain": [
       "<Figure size 432x288 with 1 Axes>"
      ]
     },
     "metadata": {
      "needs_background": "light"
     },
     "output_type": "display_data"
    }
   ],
   "source": [
    "plt.plot(train_losses,label='training loss')\n",
    "plt.plot(test_losses, label='validation loss')\n",
    "plt.title('Her epoch için Loss değerinin değişimi')\n",
    "plt.legend();"
   ]
  },
  {
   "cell_type": "code",
   "execution_count": 116,
   "metadata": {},
   "outputs": [
    {
     "data": {
      "image/png": "[encoded data removed]",
      "text/plain": [
       "<Figure size 432x288 with 1 Axes>"
      ]
     },
     "metadata": {
      "needs_background": "light"
     },
     "output_type": "display_data"
    }
   ],
   "source": [
    "plt.plot([t/600 for t in train_correct],label='training accuracy')\n",
    "plt.plot([t/100 for t in test_correct],label='validation accuracy')\n",
    "plt.title('her epoch için Accuracy')\n",
    "plt.legend();"
   ]
  },
  {
   "cell_type": "code",
   "execution_count": 117,
   "metadata": {},
   "outputs": [
    {
     "name": "stdout",
     "output_type": "stream",
     "text": [
      "[tensor(9454), tensor(9587), tensor(9690), tensor(9728), tensor(9741), tensor(9763), tensor(9762), tensor(9769), tensor(9785), tensor(9759)]\n"
     ]
    }
   ],
   "source": [
    "print(test_correct)"
   ]
  },
  {
   "cell_type": "code",
   "execution_count": 118,
   "metadata": {},
   "outputs": [
    {
     "name": "stdout",
     "output_type": "stream",
     "text": [
      "Test accuracy: 97.590%\n"
     ]
    }
   ],
   "source": [
    "print(f'Test accuracy: {test_correct[-1].item()*100/10000:.3f}%')"
   ]
  },
  {
   "cell_type": "code",
   "execution_count": 119,
   "metadata": {},
   "outputs": [],
   "source": [
    "test_load_all=DataLoader(test_data,batch_size=10000,shuffle=False)"
   ]
  },
  {
   "cell_type": "code",
   "execution_count": 120,
   "metadata": {},
   "outputs": [
    {
     "name": "stdout",
     "output_type": "stream",
     "text": [
      "Test accuracy:  9759/10000= 97.590%\n"
     ]
    }
   ],
   "source": [
    "with torch.no_grad():\n",
    "    correct=0\n",
    "    for X_test, y_test in test_load_all:\n",
    "        y_val=model(X_test.view(len(X_test),-1))\n",
    "        predicted=torch.max(y_val,1)[1]\n",
    "        correct+=(predicted==y_test).sum()\n",
    "print(f'Test accuracy:  {correct.item()}/{len(test_data)}={correct.item()*100/(len(test_data)):7.3f}%')"
   ]
  },
  {
   "cell_type": "code",
   "execution_count": 121,
   "metadata": {},
   "outputs": [
    {
     "name": "stdout",
     "output_type": "stream",
     "text": [
      "[[   0    1    2    3    4    5    6    7    8    9]]\n",
      "\n",
      "[[ 970    0    0    0    0    2    6    1    3    1]\n",
      " [   0 1121    0    0    0    0    2    5    0    2]\n",
      " [   1    0 1010    1    4    0    0    9    3    0]\n",
      " [   2    4    4  995    1   13    1   13    5    2]\n",
      " [   0    0    1    0  942    1    5    1    3    5]\n",
      " [   0    0    1    2    1  866    3    0    1    2]\n",
      " [   2    2    1    0    4    3  936    0    4    1]\n",
      " [   0    1    4    3    2    0    0  979    2    2]\n",
      " [   3    7   11    3    1    5    5    3  947    1]\n",
      " [   2    0    0    6   27    2    0   17    6  993]]\n"
     ]
    }
   ],
   "source": [
    "# doğru tahmin edilen confusion matrix oluşturacağız\n",
    "np.set_printoptions(formatter=dict(int=lambda x:f'{x:4}'))\n",
    "print(np.arange(10).reshape(1,10))\n",
    "print()\n",
    "print(confusion_matrix(predicted.view(-1),y_test.view(-1)))"
   ]
  },
  {
   "cell_type": "code",
   "execution_count": 122,
   "metadata": {},
   "outputs": [
    {
     "data": {
      "text/plain": [
       "241"
      ]
     },
     "execution_count": 122,
     "metadata": {},
     "output_type": "execute_result"
    }
   ],
   "source": [
    "# kaç adet verinin yanlış tahmin edildiğini hesaplıyoruz\n",
    "misses=np.array([])\n",
    "for i in range(len(predicted.view(-1))):\n",
    "    if predicted[i] !=y_test[i]:\n",
    "        misses=np.append(misses,i).astype('int64')\n",
    "        \n",
    "len(misses)"
   ]
  },
  {
   "cell_type": "code",
   "execution_count": 123,
   "metadata": {},
   "outputs": [
    {
     "data": {
      "text/plain": [
       "array([ 115,  217,  247,  259,  321,  340,  381,  425,  432,  445],\n",
       "      dtype=int64)"
      ]
     },
     "execution_count": 123,
     "metadata": {},
     "output_type": "execute_result"
    }
   ],
   "source": [
    "misses[:10]"
   ]
  },
  {
   "cell_type": "code",
   "execution_count": 124,
   "metadata": {},
   "outputs": [],
   "source": [
    "# image aslında ne imiş ve ne tahmin edilmişi görelim\n",
    "r=15 # ilk 15 indisteki image seçilecek\n",
    "row=iter(np.array_split(misses,len(misses)//r+1))"
   ]
  },
  {
   "cell_type": "code",
   "execution_count": 125,
   "metadata": {},
   "outputs": [
    {
     "name": "stdout",
     "output_type": "stream",
     "text": [
      "Index: [ 115  217  247  259  321  340  381  425  432  445  447  551  582  610\n",
      "  613]\n",
      "Label: [   4    6    4    6    2    5    3    4    4    6    4    7    8    4\n",
      "    2]\n",
      "Guess: [   9    5    2    0    3    3    7    6    5    0    9    3    2    6\n",
      "    8]\n"
     ]
    },
    {
     "data": {
      "image/png": "[encoded data removed]",
      "text/plain": [
       "<Figure size 720x288 with 1 Axes>"
      ]
     },
     "metadata": {
      "needs_background": "light"
     },
     "output_type": "display_data"
    }
   ],
   "source": [
    "nextrow=next(row)\n",
    "print('Index:',nextrow)\n",
    "print('Label:',y_test.index_select(0,torch.tensor(nextrow)).numpy())\n",
    "print('Guess:',predicted.index_select(0,torch.tensor(nextrow)).numpy())\n",
    "\n",
    "images=X_test.index_select(0,torch.tensor(nextrow))\n",
    "im=make_grid(images,nrow=r)\n",
    "plt.figure(figsize=(10,4))\n",
    "plt.imshow(np.transpose(im.numpy(),(1,2,0)));"
   ]
  }
 ],
 "metadata": {
  "kernelspec": {
   "display_name": "Python 3",
   "language": "python",
   "name": "python3"
  },
  "language_info": {
   "codemirror_mode": {
    "name": "ipython",
    "version": 3
   },
   "file_extension": ".py",
   "mimetype": "text/x-python",
   "name": "python",
   "nbconvert_exporter": "python",
   "pygments_lexer": "ipython3",
   "version": "3.8.3"
  }
 },
 "nbformat": 4,
 "nbformat_minor": 4
}
